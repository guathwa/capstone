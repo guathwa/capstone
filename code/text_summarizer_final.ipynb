{
 "cells": [
  {
   "cell_type": "markdown",
   "metadata": {},
   "source": [
    "# Capstone Project: Automatic Text Summarization"
   ]
  },
  {
   "cell_type": "markdown",
   "metadata": {},
   "source": [
    "# Problem Statement"
   ]
  },
  {
   "cell_type": "markdown",
   "metadata": {},
   "source": [
    "Having problem with too much content to read but too little time ? Get a summary that contains the key sentences using an extractive text summarizer."
   ]
  },
  {
   "cell_type": "markdown",
   "metadata": {},
   "source": [
    "# Executive Summary"
   ]
  },
  {
   "cell_type": "markdown",
   "metadata": {},
   "source": [
    "Automatic Text Summarization is one of the most challenging and interesting problems in the field of Natural Language Processing (NLP). It is a process of generating a concise and meaningful summary of text from multiple text resources such as books, news articles, blog posts, research papers, emails, and tweets.\n",
    "\n",
    "The demand for automatic text summarization systems is spiking these days thanks to the availability of large amounts of textual data.\n",
    "\n",
    "In this project, we will work on single-document text summarization which is the task of automatically generating a shorter version of a document while retaining its most important information. \n",
    "\n",
    "This summarizer is able to read in a document from a text file, a PDF, from a URL or a block of text, uses three different models (Graph Based, Centriod Based, Pre-Trained Bert) to generate a summary based on the settings (by number of sentences, 1 min, 3 mins, 5 mins summary). \n",
    "\n",
    "Prototype URL : "
   ]
  },
  {
   "cell_type": "markdown",
   "metadata": {},
   "source": [
    "Import Required Libraries"
   ]
  },
  {
   "cell_type": "code",
   "execution_count": 218,
   "metadata": {},
   "outputs": [],
   "source": [
    "import numpy as np\n",
    "import pandas as pd\n",
    "import matplotlib.pyplot as plt\n",
    "%matplotlib inline\n",
    "import re\n",
    "import networkx as nx\n",
    "import requests\n",
    "from bs4 import BeautifulSoup\n",
    "from rouge import Rouge\n",
    "import codecs\n",
    "import PyPDF2\n",
    "\n",
    "from nltk.corpus import stopwords\n",
    "from nltk.cluster.util import cosine_distance\n",
    "from sklearn.metrics.pairwise import cosine_similarity\n",
    "from nltk.tokenize import word_tokenize \n",
    "from nltk.tokenize import sent_tokenize\n",
    "\n",
    "#settings to see all columns / rows\n",
    "pd.set_option('display.max_columns', None)\n",
    "pd.set_option('display.max_rows', None)\n",
    "pd.set_option('display.max_colwidth', -1)\n"
   ]
  },
  {
   "cell_type": "code",
   "execution_count": 219,
   "metadata": {},
   "outputs": [],
   "source": [
    "#import nltk\n",
    "#nltk.download('punkt') # one time execution\n",
    "#nltk.download('popular')"
   ]
  },
  {
   "cell_type": "markdown",
   "metadata": {},
   "source": [
    "About Punkt Sentence Tokenizer\n",
    "\n",
    "This tokenizer divides a text into a list of sentences by using an unsupervised algorithm to build a model for abbreviation words, collocations, and words that start sentences. It must be trained on a large collection of plaintext in the target language before it can be used.\n",
    "\n",
    "The NLTK data package includes a pre-trained Punkt tokenizer for English."
   ]
  },
  {
   "cell_type": "markdown",
   "metadata": {},
   "source": [
    "# Input Document"
   ]
  },
  {
   "cell_type": "markdown",
   "metadata": {},
   "source": [
    "## Document : A Text File"
   ]
  },
  {
   "cell_type": "markdown",
   "metadata": {},
   "source": [
    "This function is used to read in the text of a text file."
   ]
  },
  {
   "cell_type": "code",
   "execution_count": 220,
   "metadata": {},
   "outputs": [],
   "source": [
    "def readFile(file_name):\n",
    "    # open the file as read only\n",
    "    # Return all the text in the file (in parapgraphs)\n",
    "    with open(file_name) as file:\n",
    "        text = [line.strip('\\n') for line in file.readlines() if line.strip()] \n",
    "    # close the file\n",
    "    file.close()\n",
    "    return ' '.join(text)"
   ]
  },
  {
   "cell_type": "markdown",
   "metadata": {},
   "source": [
    "## Document : A PDF"
   ]
  },
  {
   "cell_type": "markdown",
   "metadata": {},
   "source": [
    "This function is used to read in the text of a PDF file."
   ]
  },
  {
   "cell_type": "code",
   "execution_count": 221,
   "metadata": {},
   "outputs": [],
   "source": [
    "def readPDF(file_name):\n",
    "    text = []\n",
    "    pdf_file_object = open(file_name, 'rb')\n",
    "    print(pdf_file_object)\n",
    "    pdfReader = PyPDF2.PdfFileReader(pdf_file_object)\n",
    "    numPages = pdfReader.numPages\n",
    "    print(\"No. of pages: \",numPages)\n",
    "    for i in range(numPages):\n",
    "        page_object = pdfReader.getPage(i).extractText().replace(\"\\n\",\"\")        \n",
    "        text.append(page_object)\n",
    "        print(\"length of page: \",len(page_object))\n",
    "    return text"
   ]
  },
  {
   "cell_type": "markdown",
   "metadata": {},
   "source": [
    "## Document: An Url "
   ]
  },
  {
   "cell_type": "markdown",
   "metadata": {},
   "source": [
    "This function is used to read in the text of an URL. BeautifulSoup with lxml is used to extract the text from the website."
   ]
  },
  {
   "cell_type": "code",
   "execution_count": 222,
   "metadata": {},
   "outputs": [],
   "source": [
    "def readUrl(url): \n",
    "    \n",
    "    #return the text of the article\n",
    "    res = requests.get(url)\n",
    "    res.status_code\n",
    "    print(res.status_code)\n",
    "    if res.status_code == 200:\n",
    "        #create a beautifulsoup object\n",
    "        soup = BeautifulSoup(res.content, 'lxml')\n",
    "        text = ' '.join(map(lambda p: p.text, soup.find_all('p')))\n",
    "        return text\n",
    "    else:\n",
    "        print('Error assessing page, status = ' + str(res.status_code))   "
   ]
  },
  {
   "cell_type": "markdown",
   "metadata": {},
   "source": [
    "## Document : A Block of Text"
   ]
  },
  {
   "cell_type": "markdown",
   "metadata": {},
   "source": [
    "This function is used to read in the text entered by the user."
   ]
  },
  {
   "cell_type": "raw",
   "metadata": {},
   "source": [
    "text = input('Copy and paste your text here')"
   ]
  },
  {
   "cell_type": "markdown",
   "metadata": {},
   "source": [
    "## Split Text into Sentences"
   ]
  },
  {
   "cell_type": "markdown",
   "metadata": {},
   "source": [
    "These functions are used to get the wordcount, sentence count of the text source and split the text into sentences using NLTK sentence tokenizer."
   ]
  },
  {
   "cell_type": "code",
   "execution_count": 223,
   "metadata": {},
   "outputs": [],
   "source": [
    "def get_wordcount(text):\n",
    "    # using regex (findall()) to count words in text \n",
    "    wc = len(re.findall(r'\\w+', text)) \n",
    "    return(wc)"
   ]
  },
  {
   "cell_type": "code",
   "execution_count": 224,
   "metadata": {},
   "outputs": [],
   "source": [
    "def get_sentencecount(text):\n",
    "    # count no. of sentences in text   \n",
    "    return len(sent_tokenize(text))"
   ]
  },
  {
   "cell_type": "code",
   "execution_count": 225,
   "metadata": {},
   "outputs": [],
   "source": [
    "#function to split text into sentences using sent_tokenize and return the sentences\n",
    "def get_sentences(text):\n",
    "    \n",
    "    sentences = sent_tokenize(text)\n",
    "\n",
    "    return sentences"
   ]
  },
  {
   "cell_type": "markdown",
   "metadata": {},
   "source": [
    "## Clean the Sentences"
   ]
  },
  {
   "cell_type": "markdown",
   "metadata": {},
   "source": [
    "These 2 functions are used to clean individual sentence / all sentences at one go. Cleaning includes: \n",
    "- convert to lowercase\n",
    "- remove stop words\n",
    "- remove short words\n",
    "- remove HTML tags\n",
    "- Remove (‘s)\n",
    "- Remove any text inside the parenthesis ( )\n",
    "- Eliminate punctuations and special characters"
   ]
  },
  {
   "cell_type": "code",
   "execution_count": 226,
   "metadata": {},
   "outputs": [],
   "source": [
    "stop_words = set(stopwords.words('english')) \n",
    "def clean_sentence(sentence,stop_words):\n",
    "    # input : a sentence\n",
    "    # output : a cleaned sentence\n",
    "    \n",
    "    #convert to lowercase\n",
    "    new_sen = sentence.lower()\n",
    "    \n",
    "    #remove xml\n",
    "    new_sen = BeautifulSoup(new_sen, 'lxml').text\n",
    "    #new_sen = BeautifulSoup(new_sen, 'html.parser').get_text()\n",
    "    \n",
    "    #remove 's', punctuation, special characters, text in ()\n",
    "    new_sen = re.sub(r'\\([^)]*\\)', '', new_sen)\n",
    "    new_sen = re.sub('\"','', new_sen)\n",
    "    new_sen = re.sub(r\"'s\\b\",\"\",new_sen)\n",
    "    new_sen = re.sub(\"[^a-zA-Z0-9]\", \" \", new_sen) \n",
    "       \n",
    "    #remove stop_words\n",
    "    tokens = [w for w in new_sen.split() if not w in stop_words]\n",
    "    \n",
    "    #remove short words\n",
    "    long_words=[]\n",
    "    for i in tokens:\n",
    "        if len(i)>=1:                  \n",
    "            long_words.append(i) \n",
    "    \n",
    "    #if the new_sen is empty after cleaning, \n",
    "    #set the new_sen to \"dummy\", otherwise it will fail during sentence embedding as the index will not tally\n",
    "    if len(long_words) == 0:\n",
    "        long_words='dummy'\n",
    "    return (' '.join(long_words)).strip()"
   ]
  },
  {
   "cell_type": "code",
   "execution_count": 227,
   "metadata": {},
   "outputs": [],
   "source": [
    "def clean_all_sentences(sentences,stop_words):\n",
    "    # input: list of sentences\n",
    "    # output: list of cleaned sentences\n",
    "    cleaned = []\n",
    "    for s in sentences:\n",
    "        s = clean_sentence(s,stop_words)\n",
    "        cleaned.append(''.join(s))\n",
    "    # remove empty sentence\n",
    "    cleaned = [s for s in cleaned if len(s) > 0]\n",
    "    return(cleaned)"
   ]
  },
  {
   "cell_type": "markdown",
   "metadata": {},
   "source": [
    "# Model 1 : Graph-Based Summarization (TextRank)"
   ]
  },
  {
   "cell_type": "markdown",
   "metadata": {},
   "source": [
    "In this section, we will create our first extractive text summarization model based on TextRank with GloVe word embeddings.\n",
    "\n",
    "Global Vecotrs for Word Representations (GloVe, by Stanford) word embeddings are vector representation of words. These word embeddings will be used to create vectors for our sentences. We will be using the pre-trained Wikipedia 2014 + Gigaword 5 GloVe vectors. This is the smallest GloVe pre-trained model from the GloVe website. It an 822 Megabyte zip file with 4 different models (50, 100, 200 and 300-dimensional vectors) trained on Wikipedia data with 6 billion tokens and a 400,000 word vocabulary.\n",
    "\n",
    "Word Embedding is an NLP technique, capable of capturing the context of a word in a document, semantic and syntactic similarity, relation with other words."
   ]
  },
  {
   "cell_type": "markdown",
   "metadata": {},
   "source": [
    "TextRank is an extractive and unsupervised text summarization technique. It is based on PageRank algorithm that is used on Google Search Engine. In simple words, it prefers pages which has higher number of pages hitting it. In our case, we are finding how similar each sentence is to all other sentences in the text. The most important sentence is the one that is most similar to all the others.\n",
    "Extracted from : https://www.quora.com/What-is-a-simple-but-detailed-explanation-of-Textrank"
   ]
  },
  {
   "cell_type": "markdown",
   "metadata": {},
   "source": [
    "TextRank Algorithm:\n",
    "- Input article → split into sentences → remove stop words → build a similarity matrix → convert matrix to graph for sentence scoring and ranking → pick top N sentences for summary."
   ]
  },
  {
   "cell_type": "markdown",
   "metadata": {},
   "source": [
    "## Load GloVe Word Embeddings"
   ]
  },
  {
   "cell_type": "code",
   "execution_count": 228,
   "metadata": {},
   "outputs": [],
   "source": [
    "def convert_to_binary(embedding_path):\n",
    "    #function to split the text file to .npy and .vocab, faster way to load then reading .txt\n",
    "    #input : location and name of glove text file, without the extension\n",
    "    #output : a binary file of the embedding which is faster to load\n",
    " \n",
    "    f = codecs.open(embedding_path + \".txt\", 'r', encoding='utf-8')\n",
    "    wv = []\n",
    "    with codecs.open(embedding_path + \".vocab\", \"w\", encoding='utf-8') as vocab_write:\n",
    "        count = 0\n",
    "        for line in f:\n",
    "            if count == 0:\n",
    "                pass\n",
    "            else:\n",
    "                splitlines = line.split()\n",
    "                vocab_write.write(splitlines[0].strip())\n",
    "                vocab_write.write(\"\\n\")\n",
    "                wv.append([float(val) for val in splitlines[1:]])\n",
    "            count += 1\n",
    "    np.save(embedding_path + \".npy\", np.array(wv))"
   ]
  },
  {
   "cell_type": "code",
   "execution_count": 229,
   "metadata": {},
   "outputs": [],
   "source": [
    "def load_embeddings_binary(embedding_path):\n",
    "    #function to load the glove model from .npy and .vocab\n",
    "    #input : location and name of glove text file, without the extension\n",
    "    #output : glove model\n",
    "\n",
    "    with codecs.open(embedding_path + '.vocab', 'r', 'utf-8') as f_in:\n",
    "        index2word = [line.strip() for line in f_in]\n",
    "    wv = np.load(embedding_path + '.npy')\n",
    "    word_embeddings = {}\n",
    "    for i, w in enumerate(index2word):\n",
    "        word_embeddings[w] = wv[i]\n",
    "    return word_embeddings"
   ]
  },
  {
   "cell_type": "markdown",
   "metadata": {},
   "source": [
    "## Create sentences vectors"
   ]
  },
  {
   "cell_type": "markdown",
   "metadata": {},
   "source": [
    "This function is used to convert the sentence into sentence vectors  by applying glove word embedding. The sentence vector is calculated by summing all its individual word vectors divided by the sentence length."
   ]
  },
  {
   "cell_type": "code",
   "execution_count": 230,
   "metadata": {},
   "outputs": [],
   "source": [
    "def create_sentence_vectors(sentences, word_embeddings):\n",
    "    #input : list of sentences, word embedding vectors\n",
    "    #output  sentence matrix\n",
    "    #sentence vectors = sum of word vectors in that sentence / length of sentence\n",
    "    sentence_vectors = []\n",
    "    for i in sentences:\n",
    "        if len(i) != 0:\n",
    "              v = sum([word_embeddings.get(w, np.zeros((100,))) for w in i.split()])/(len(i.split())+0.001)\n",
    "        else:\n",
    "            v = np.zeros((100,))\n",
    "        sentence_vectors.append(v)\n",
    "    return(sentence_vectors)"
   ]
  },
  {
   "cell_type": "markdown",
   "metadata": {},
   "source": [
    "## Create Sentence Similarity Matrix "
   ]
  },
  {
   "cell_type": "markdown",
   "metadata": {},
   "source": [
    "Cosine similarity is a measure of similarity between two non-zero vectors of an inner product space that measures the cosine of the angle between them. Since we will be representing our sentences as the bunch of vectors, we can use it to find the similarity among sentences. Its measures cosine of the angle between vectors. Angle will be 0 if sentences are similar."
   ]
  },
  {
   "cell_type": "code",
   "execution_count": 231,
   "metadata": {},
   "outputs": [],
   "source": [
    "# use cosine similarity to find similarity for a pair of sentences\n",
    "# similarity matrix\n",
    "def get_similarity_matrix(sentences,sentence_vectors):\n",
    "    sim_mat = np.zeros([len(sentences), len(sentences)])\n",
    "\n",
    "    for i in range(len(sentences)):\n",
    "      for j in range(len(sentences)):\n",
    "        if i != j:\n",
    "          sim_mat[i][j] = cosine_similarity(sentence_vectors[i].reshape(1,100), sentence_vectors[j].reshape(1,100))[0,0]\n",
    "\n",
    "    return(sim_mat)"
   ]
  },
  {
   "cell_type": "markdown",
   "metadata": {},
   "source": [
    "## Sentence Scoring                          "
   ]
  },
  {
   "cell_type": "markdown",
   "metadata": {},
   "source": [
    "For this step, we convert similarity martrix to graph and calculate the sentence score using pagerank algorithm.\n",
    "The graph vertices represent the sentences, the edges are the scores."
   ]
  },
  {
   "cell_type": "code",
   "execution_count": 232,
   "metadata": {},
   "outputs": [],
   "source": [
    "# Convert matrix to graph \n",
    "def convert_matrix_to_graph(sim_mat):\n",
    "    nx_graph = nx.from_numpy_array(sim_mat)\n",
    "    return(nx_graph)\n",
    "\n",
    "# Apply TextRank Algorithm to score the sentence\n",
    "# The more similar a sentence is with all other sentences, the higher the score\n",
    "def score_sentences(nx_graph):\n",
    "    scores = nx.pagerank(nx_graph)\n",
    "    return scores\n"
   ]
  },
  {
   "cell_type": "markdown",
   "metadata": {},
   "source": [
    "## Sentence Ranking"
   ]
  },
  {
   "cell_type": "markdown",
   "metadata": {},
   "source": [
    "This function is used to rank the sentences based on the similarity scores, sorted based the scores in descendign order."
   ]
  },
  {
   "cell_type": "code",
   "execution_count": 233,
   "metadata": {},
   "outputs": [],
   "source": [
    "def rank_sentences(sentences,scores):\n",
    "       \n",
    "    ranked_sentences = sorted(((scores[i],s,i) for i,s in enumerate(sentences)), \n",
    "                          reverse=True)\n",
    "    return ranked_sentences"
   ]
  },
  {
   "cell_type": "markdown",
   "metadata": {},
   "source": [
    "## Sentence Selection (Generated Summary)"
   ]
  },
  {
   "cell_type": "markdown",
   "metadata": {},
   "source": [
    "This function is used to select the top sentences to form the summary. The top sentences can be sorted either by their scores or their original sentence orders(default)."
   ]
  },
  {
   "cell_type": "code",
   "execution_count": 234,
   "metadata": {},
   "outputs": [],
   "source": [
    "# Extract top_n sentences as the summary, \n",
    "# input : \n",
    "#         ranked_sentneces: list of sentences with its score\n",
    "#         top_n : number of sentences to extract\n",
    "#         rank : whether the output will be sorted by rank order, default: False (sentence order)\n",
    "# Output :\n",
    "#         return list of top sentences in ranked order / sentence order\n",
    "\n",
    "def extract_top_sentences(ranked_sentences,top_n, rank=False):\n",
    "\n",
    "    if rank == True:\n",
    "        s = ranked_sentences[0:top_n]\n",
    "    else:\n",
    "        s = sorted(ranked_sentences[0:top_n],key=lambda x: x[2])\n",
    "    return [s[1] for s in s]"
   ]
  },
  {
   "cell_type": "markdown",
   "metadata": {},
   "source": [
    "This is an enhanced function to the above by adding in the logic to check for sentence similarity before adding them into the summary.\n",
    "e.g if a sentence to be selected is similar to the sentence already in summary, this sentence will not be selected."
   ]
  },
  {
   "cell_type": "code",
   "execution_count": 235,
   "metadata": {},
   "outputs": [],
   "source": [
    "def extract_top_sentences_sim_threshold(ranked_sentences,top_n, sim_mat,rank=False, sim_threshold = 0.95):\n",
    "\n",
    "    sentence_scores_sort = ranked_sentences\n",
    "    sentences_summary = []\n",
    "    count = 1\n",
    "\n",
    "    for s in sentence_scores_sort:\n",
    "\n",
    "        if count > top_n:\n",
    "            break\n",
    "        include_flag = True\n",
    "        for ps in sentences_summary:\n",
    "            #sim = similarity(sim_mat[s[2]], sim_mat[ps[2]])\n",
    "            sim = sim_mat[s[2]][ps[2]]\n",
    "\n",
    "            # exclude similar sentences based on sim_threshold\n",
    "            if sim > sim_threshold:\n",
    "                include_flag = False\n",
    "        if include_flag:\n",
    "            sentences_summary.append(s)\n",
    "            count += 1\n",
    "            \n",
    "    if rank == True:\n",
    "        s = sentences_summary\n",
    "    else:\n",
    "        s = sorted(sentences_summary,key=lambda x: x[2])\n",
    "    return [s[1] for s in s]           "
   ]
  },
  {
   "cell_type": "markdown",
   "metadata": {},
   "source": [
    "## Function to generate a summary (all steps)"
   ]
  },
  {
   "cell_type": "markdown",
   "metadata": {},
   "source": [
    "This function is used to generated the summary for all the steps listed above."
   ]
  },
  {
   "cell_type": "code",
   "execution_count": 236,
   "metadata": {},
   "outputs": [],
   "source": [
    "def generate_summary_textrank(text,top_n,word_embeddings):    \n",
    "    \n",
    "    # Get list of sentences\n",
    "    sentences = get_sentences(text)\n",
    "    \n",
    "    # clean all sentences\n",
    "    print('cleaning sentences ...')\n",
    "    sentences_c = clean_all_sentences(sentences,stop_words)\n",
    "    \n",
    "    # Create word vectors for cleaned sentences\n",
    "    print('creating word vectors for sentences ...')\n",
    "    sentence_vectors = create_sentence_vectors(sentences_c,word_embeddings)\n",
    "    \n",
    "    # Get Sentence Similiarity Matrix\n",
    "    print('creating sentence similarity matrix ...')\n",
    "    sim_mat = get_similarity_matrix(sentences_c,sentence_vectors)\n",
    "        \n",
    "    # Convert matrix to graph and score sentences\n",
    "    print('scoring sentences ...')\n",
    "    nx_graph = convert_matrix_to_graph(sim_mat)\n",
    "    scores = score_sentences(nx_graph)\n",
    "    \n",
    "    # Rank the sentences\n",
    "    print('ranking sentences ...')\n",
    "    ranked_sentences = rank_sentences(sentences,scores)\n",
    "    \n",
    "    # Extract top sentences & generate summary\n",
    "    print('generating summary ...')\n",
    "    generated_summary = extract_top_sentences(ranked_sentences,top_n)\n",
    "    \n",
    "    # apply similarity threshold in selection\n",
    "    #generated_summary = extract_top_sentences_sim_threshold(ranked_sentences,top_n, sim_mat, rank=False, sim_threshold = 0.90)\n",
    "    \n",
    "    generated_summary = ' '.join(generated_summary)\n",
    "    print('completed')\n",
    "    return (generated_summary)"
   ]
  },
  {
   "cell_type": "markdown",
   "metadata": {},
   "source": [
    "This is the enhanced function to the above (with similarity threshold checking) to generated the summary for all the steps."
   ]
  },
  {
   "cell_type": "code",
   "execution_count": 237,
   "metadata": {},
   "outputs": [],
   "source": [
    "def generate_summary_textrank_sim_threshold(text,top_n,word_embeddings):    \n",
    "    \n",
    "    # Get list of sentences\n",
    "    sentences = get_sentences(text)\n",
    "    \n",
    "    # clean all sentences\n",
    "    print('cleaning sentences ...')\n",
    "    sentences_c = clean_all_sentences(sentences,stop_words)\n",
    "    \n",
    "    # Create word vectors for cleaned sentences\n",
    "    print('creating word vectors for sentences ...')\n",
    "    sentence_vectors = create_sentence_vectors(sentences_c,word_embeddings)\n",
    "    \n",
    "    # Get Sentence Similiarity Matrix\n",
    "    print('creating sentence similarity matrix ...')\n",
    "    sim_mat = get_similarity_matrix(sentences_c,sentence_vectors)\n",
    "        \n",
    "    # Convert matrix to graph and score sentences\n",
    "    print('scoring sentences ...')\n",
    "    nx_graph = convert_matrix_to_graph(sim_mat)\n",
    "    scores = score_sentences(nx_graph)\n",
    "    \n",
    "    # Rank the sentences\n",
    "    print('ranking sentences ...')\n",
    "    ranked_sentences = rank_sentences(sentences,scores)\n",
    "    \n",
    "    # Extract top sentences & generate summary\n",
    "    print('generating summary ...')\n",
    "    #generated_summary = extract_top_sentences(ranked_sentences,top_n)\n",
    "    \n",
    "    # apply similarity threshold in selection\n",
    "    generated_summary = extract_top_sentences_sim_threshold(ranked_sentences,top_n, sim_mat, rank=False, sim_threshold = 0.90)\n",
    "    \n",
    "    generated_summary = ' '.join(generated_summary)\n",
    "    print('completed')\n",
    "    return (generated_summary)"
   ]
  },
  {
   "cell_type": "markdown",
   "metadata": {},
   "source": [
    "## Sample Test Case"
   ]
  },
  {
   "cell_type": "markdown",
   "metadata": {},
   "source": [
    "In this section, we run a simple test case based on a block of text to test out all the steps in generating a summary."
   ]
  },
  {
   "cell_type": "markdown",
   "metadata": {},
   "source": [
    "Example : Read text from a file"
   ]
  },
  {
   "cell_type": "raw",
   "metadata": {},
   "source": [
    "file = '../dataset/NewsArticles/tech/005.txt'\n",
    "text = readFile(file)"
   ]
  },
  {
   "cell_type": "markdown",
   "metadata": {},
   "source": [
    "Example : Read text from an url"
   ]
  },
  {
   "cell_type": "raw",
   "metadata": {},
   "source": [
    "url='https://towardsdatascience.com/a-comprehensive-guide-to-convolutional-neural-networks-the-eli5-way-3bd2b1164a53'\n",
    "text = readUrl(url)"
   ]
  },
  {
   "cell_type": "markdown",
   "metadata": {},
   "source": [
    "Example: Read text from a PDF"
   ]
  },
  {
   "cell_type": "raw",
   "metadata": {
    "scrolled": true
   },
   "source": [
    "file_name = '../dataset/test.pdf'\n",
    "text = readPDF(file_name)\n",
    "text"
   ]
  },
  {
   "cell_type": "markdown",
   "metadata": {},
   "source": [
    "### Read text from block"
   ]
  },
  {
   "cell_type": "code",
   "execution_count": 238,
   "metadata": {},
   "outputs": [],
   "source": [
    "#text = input('Copy and paste your text here')\n",
    "text = \"\"\"West Nile virus (WNV) is the leading cause of mosquito-borne disease in the continental United States. It is most commonly spread to people by the bite of an infected mosquito. Cases of WNV occur during mosquito season, which starts in the summer and continues through fall. There are no vaccines to prevent or medications to treat WNV in people. Fortunately, most people infected with WNV do not feel sick. About 1 in 5 people who are infecteedge_cmapd develop a fever and other symptoms. About 1 out of 150 infected people develop a serious, sometimes fatal, illness. You can reduce your risk of WNV by using insect repellent and wearing long-sleeved shirts and long pants to prevent mosquito bites.\"\"\""
   ]
  },
  {
   "cell_type": "code",
   "execution_count": 239,
   "metadata": {},
   "outputs": [
    {
     "name": "stdout",
     "output_type": "stream",
     "text": [
      "Number of words :  120\n",
      "Number of sentences :  8\n"
     ]
    }
   ],
   "source": [
    "print('Number of words : ',get_wordcount(''.join(text)))\n",
    "print('Number of sentences : ', get_sentencecount(text))"
   ]
  },
  {
   "cell_type": "markdown",
   "metadata": {},
   "source": [
    "### Split text into sentences"
   ]
  },
  {
   "cell_type": "code",
   "execution_count": 240,
   "metadata": {},
   "outputs": [],
   "source": [
    "sentences = get_sentences(text)"
   ]
  },
  {
   "cell_type": "code",
   "execution_count": 241,
   "metadata": {},
   "outputs": [
    {
     "data": {
      "text/html": [
       "<div>\n",
       "<style scoped>\n",
       "    .dataframe tbody tr th:only-of-type {\n",
       "        vertical-align: middle;\n",
       "    }\n",
       "\n",
       "    .dataframe tbody tr th {\n",
       "        vertical-align: top;\n",
       "    }\n",
       "\n",
       "    .dataframe thead th {\n",
       "        text-align: right;\n",
       "    }\n",
       "</style>\n",
       "<table border=\"1\" class=\"dataframe\">\n",
       "  <thead>\n",
       "    <tr style=\"text-align: right;\">\n",
       "      <th></th>\n",
       "      <th>text</th>\n",
       "    </tr>\n",
       "  </thead>\n",
       "  <tbody>\n",
       "    <tr>\n",
       "      <td>0</td>\n",
       "      <td>West Nile virus (WNV) is the leading cause of mosquito-borne disease in the continental United States.</td>\n",
       "    </tr>\n",
       "    <tr>\n",
       "      <td>1</td>\n",
       "      <td>It is most commonly spread to people by the bite of an infected mosquito.</td>\n",
       "    </tr>\n",
       "    <tr>\n",
       "      <td>2</td>\n",
       "      <td>Cases of WNV occur during mosquito season, which starts in the summer and continues through fall.</td>\n",
       "    </tr>\n",
       "    <tr>\n",
       "      <td>3</td>\n",
       "      <td>There are no vaccines to prevent or medications to treat WNV in people.</td>\n",
       "    </tr>\n",
       "    <tr>\n",
       "      <td>4</td>\n",
       "      <td>Fortunately, most people infected with WNV do not feel sick.</td>\n",
       "    </tr>\n",
       "    <tr>\n",
       "      <td>5</td>\n",
       "      <td>About 1 in 5 people who are infecteedge_cmapd develop a fever and other symptoms.</td>\n",
       "    </tr>\n",
       "    <tr>\n",
       "      <td>6</td>\n",
       "      <td>About 1 out of 150 infected people develop a serious, sometimes fatal, illness.</td>\n",
       "    </tr>\n",
       "    <tr>\n",
       "      <td>7</td>\n",
       "      <td>You can reduce your risk of WNV by using insect repellent and wearing long-sleeved shirts and long pants to prevent mosquito bites.</td>\n",
       "    </tr>\n",
       "  </tbody>\n",
       "</table>\n",
       "</div>"
      ],
      "text/plain": [
       "                                                                                                                                  text\n",
       "0  West Nile virus (WNV) is the leading cause of mosquito-borne disease in the continental United States.                             \n",
       "1  It is most commonly spread to people by the bite of an infected mosquito.                                                          \n",
       "2  Cases of WNV occur during mosquito season, which starts in the summer and continues through fall.                                  \n",
       "3  There are no vaccines to prevent or medications to treat WNV in people.                                                            \n",
       "4  Fortunately, most people infected with WNV do not feel sick.                                                                       \n",
       "5  About 1 in 5 people who are infecteedge_cmapd develop a fever and other symptoms.                                                  \n",
       "6  About 1 out of 150 infected people develop a serious, sometimes fatal, illness.                                                    \n",
       "7  You can reduce your risk of WNV by using insect repellent and wearing long-sleeved shirts and long pants to prevent mosquito bites."
      ]
     },
     "execution_count": 241,
     "metadata": {},
     "output_type": "execute_result"
    }
   ],
   "source": [
    "#save sentences to dataframe\n",
    "df_sentences = pd.DataFrame(sentences, columns=['text'])\n",
    "df_sentences.head(10)"
   ]
  },
  {
   "cell_type": "code",
   "execution_count": 242,
   "metadata": {},
   "outputs": [],
   "source": [
    "# get word count for each sentence\n",
    "df_sentences['wordcount'] = df_sentences['text'].apply(lambda t : get_wordcount(t))"
   ]
  },
  {
   "cell_type": "code",
   "execution_count": 243,
   "metadata": {
    "scrolled": true
   },
   "outputs": [
    {
     "data": {
      "text/html": [
       "<div>\n",
       "<style scoped>\n",
       "    .dataframe tbody tr th:only-of-type {\n",
       "        vertical-align: middle;\n",
       "    }\n",
       "\n",
       "    .dataframe tbody tr th {\n",
       "        vertical-align: top;\n",
       "    }\n",
       "\n",
       "    .dataframe thead th {\n",
       "        text-align: right;\n",
       "    }\n",
       "</style>\n",
       "<table border=\"1\" class=\"dataframe\">\n",
       "  <thead>\n",
       "    <tr style=\"text-align: right;\">\n",
       "      <th></th>\n",
       "      <th>text</th>\n",
       "      <th>wordcount</th>\n",
       "    </tr>\n",
       "  </thead>\n",
       "  <tbody>\n",
       "    <tr>\n",
       "      <td>0</td>\n",
       "      <td>West Nile virus (WNV) is the leading cause of mosquito-borne disease in the continental United States.</td>\n",
       "      <td>17</td>\n",
       "    </tr>\n",
       "    <tr>\n",
       "      <td>1</td>\n",
       "      <td>It is most commonly spread to people by the bite of an infected mosquito.</td>\n",
       "      <td>14</td>\n",
       "    </tr>\n",
       "    <tr>\n",
       "      <td>2</td>\n",
       "      <td>Cases of WNV occur during mosquito season, which starts in the summer and continues through fall.</td>\n",
       "      <td>16</td>\n",
       "    </tr>\n",
       "    <tr>\n",
       "      <td>3</td>\n",
       "      <td>There are no vaccines to prevent or medications to treat WNV in people.</td>\n",
       "      <td>13</td>\n",
       "    </tr>\n",
       "    <tr>\n",
       "      <td>4</td>\n",
       "      <td>Fortunately, most people infected with WNV do not feel sick.</td>\n",
       "      <td>10</td>\n",
       "    </tr>\n",
       "    <tr>\n",
       "      <td>5</td>\n",
       "      <td>About 1 in 5 people who are infecteedge_cmapd develop a fever and other symptoms.</td>\n",
       "      <td>14</td>\n",
       "    </tr>\n",
       "    <tr>\n",
       "      <td>6</td>\n",
       "      <td>About 1 out of 150 infected people develop a serious, sometimes fatal, illness.</td>\n",
       "      <td>13</td>\n",
       "    </tr>\n",
       "    <tr>\n",
       "      <td>7</td>\n",
       "      <td>You can reduce your risk of WNV by using insect repellent and wearing long-sleeved shirts and long pants to prevent mosquito bites.</td>\n",
       "      <td>23</td>\n",
       "    </tr>\n",
       "  </tbody>\n",
       "</table>\n",
       "</div>"
      ],
      "text/plain": [
       "                                                                                                                                  text  \\\n",
       "0  West Nile virus (WNV) is the leading cause of mosquito-borne disease in the continental United States.                                \n",
       "1  It is most commonly spread to people by the bite of an infected mosquito.                                                             \n",
       "2  Cases of WNV occur during mosquito season, which starts in the summer and continues through fall.                                     \n",
       "3  There are no vaccines to prevent or medications to treat WNV in people.                                                               \n",
       "4  Fortunately, most people infected with WNV do not feel sick.                                                                          \n",
       "5  About 1 in 5 people who are infecteedge_cmapd develop a fever and other symptoms.                                                     \n",
       "6  About 1 out of 150 infected people develop a serious, sometimes fatal, illness.                                                       \n",
       "7  You can reduce your risk of WNV by using insect repellent and wearing long-sleeved shirts and long pants to prevent mosquito bites.   \n",
       "\n",
       "   wordcount  \n",
       "0  17         \n",
       "1  14         \n",
       "2  16         \n",
       "3  13         \n",
       "4  10         \n",
       "5  14         \n",
       "6  13         \n",
       "7  23         "
      ]
     },
     "execution_count": 243,
     "metadata": {},
     "output_type": "execute_result"
    }
   ],
   "source": [
    "df_sentences.head(10)"
   ]
  },
  {
   "cell_type": "markdown",
   "metadata": {},
   "source": [
    "### Clean the sentences"
   ]
  },
  {
   "cell_type": "code",
   "execution_count": 244,
   "metadata": {},
   "outputs": [],
   "source": [
    "sentences_c = clean_all_sentences(sentences,stop_words)"
   ]
  },
  {
   "cell_type": "code",
   "execution_count": 245,
   "metadata": {},
   "outputs": [
    {
     "data": {
      "text/plain": [
       "8"
      ]
     },
     "execution_count": 245,
     "metadata": {},
     "output_type": "execute_result"
    }
   ],
   "source": [
    "len(sentences_c)"
   ]
  },
  {
   "cell_type": "code",
   "execution_count": 246,
   "metadata": {},
   "outputs": [],
   "source": [
    "df_sentences['clean_text'] = df_sentences['text'].apply(lambda t: clean_sentence(t,stop_words))"
   ]
  },
  {
   "cell_type": "code",
   "execution_count": 247,
   "metadata": {
    "scrolled": true
   },
   "outputs": [
    {
     "data": {
      "text/html": [
       "<div>\n",
       "<style scoped>\n",
       "    .dataframe tbody tr th:only-of-type {\n",
       "        vertical-align: middle;\n",
       "    }\n",
       "\n",
       "    .dataframe tbody tr th {\n",
       "        vertical-align: top;\n",
       "    }\n",
       "\n",
       "    .dataframe thead th {\n",
       "        text-align: right;\n",
       "    }\n",
       "</style>\n",
       "<table border=\"1\" class=\"dataframe\">\n",
       "  <thead>\n",
       "    <tr style=\"text-align: right;\">\n",
       "      <th></th>\n",
       "      <th>text</th>\n",
       "      <th>wordcount</th>\n",
       "      <th>clean_text</th>\n",
       "    </tr>\n",
       "  </thead>\n",
       "  <tbody>\n",
       "    <tr>\n",
       "      <td>0</td>\n",
       "      <td>West Nile virus (WNV) is the leading cause of mosquito-borne disease in the continental United States.</td>\n",
       "      <td>17</td>\n",
       "      <td>west nile virus leading cause mosquito borne disease continental united states</td>\n",
       "    </tr>\n",
       "    <tr>\n",
       "      <td>1</td>\n",
       "      <td>It is most commonly spread to people by the bite of an infected mosquito.</td>\n",
       "      <td>14</td>\n",
       "      <td>commonly spread people bite infected mosquito</td>\n",
       "    </tr>\n",
       "    <tr>\n",
       "      <td>2</td>\n",
       "      <td>Cases of WNV occur during mosquito season, which starts in the summer and continues through fall.</td>\n",
       "      <td>16</td>\n",
       "      <td>cases wnv occur mosquito season starts summer continues fall</td>\n",
       "    </tr>\n",
       "    <tr>\n",
       "      <td>3</td>\n",
       "      <td>There are no vaccines to prevent or medications to treat WNV in people.</td>\n",
       "      <td>13</td>\n",
       "      <td>vaccines prevent medications treat wnv people</td>\n",
       "    </tr>\n",
       "    <tr>\n",
       "      <td>4</td>\n",
       "      <td>Fortunately, most people infected with WNV do not feel sick.</td>\n",
       "      <td>10</td>\n",
       "      <td>fortunately people infected wnv feel sick</td>\n",
       "    </tr>\n",
       "    <tr>\n",
       "      <td>5</td>\n",
       "      <td>About 1 in 5 people who are infecteedge_cmapd develop a fever and other symptoms.</td>\n",
       "      <td>14</td>\n",
       "      <td>1 5 people infecteedge cmapd develop fever symptoms</td>\n",
       "    </tr>\n",
       "    <tr>\n",
       "      <td>6</td>\n",
       "      <td>About 1 out of 150 infected people develop a serious, sometimes fatal, illness.</td>\n",
       "      <td>13</td>\n",
       "      <td>1 150 infected people develop serious sometimes fatal illness</td>\n",
       "    </tr>\n",
       "    <tr>\n",
       "      <td>7</td>\n",
       "      <td>You can reduce your risk of WNV by using insect repellent and wearing long-sleeved shirts and long pants to prevent mosquito bites.</td>\n",
       "      <td>23</td>\n",
       "      <td>reduce risk wnv using insect repellent wearing long sleeved shirts long pants prevent mosquito bites</td>\n",
       "    </tr>\n",
       "  </tbody>\n",
       "</table>\n",
       "</div>"
      ],
      "text/plain": [
       "                                                                                                                                  text  \\\n",
       "0  West Nile virus (WNV) is the leading cause of mosquito-borne disease in the continental United States.                                \n",
       "1  It is most commonly spread to people by the bite of an infected mosquito.                                                             \n",
       "2  Cases of WNV occur during mosquito season, which starts in the summer and continues through fall.                                     \n",
       "3  There are no vaccines to prevent or medications to treat WNV in people.                                                               \n",
       "4  Fortunately, most people infected with WNV do not feel sick.                                                                          \n",
       "5  About 1 in 5 people who are infecteedge_cmapd develop a fever and other symptoms.                                                     \n",
       "6  About 1 out of 150 infected people develop a serious, sometimes fatal, illness.                                                       \n",
       "7  You can reduce your risk of WNV by using insect repellent and wearing long-sleeved shirts and long pants to prevent mosquito bites.   \n",
       "\n",
       "   wordcount  \\\n",
       "0  17          \n",
       "1  14          \n",
       "2  16          \n",
       "3  13          \n",
       "4  10          \n",
       "5  14          \n",
       "6  13          \n",
       "7  23          \n",
       "\n",
       "                                                                                             clean_text  \n",
       "0  west nile virus leading cause mosquito borne disease continental united states                        \n",
       "1  commonly spread people bite infected mosquito                                                         \n",
       "2  cases wnv occur mosquito season starts summer continues fall                                          \n",
       "3  vaccines prevent medications treat wnv people                                                         \n",
       "4  fortunately people infected wnv feel sick                                                             \n",
       "5  1 5 people infecteedge cmapd develop fever symptoms                                                   \n",
       "6  1 150 infected people develop serious sometimes fatal illness                                         \n",
       "7  reduce risk wnv using insect repellent wearing long sleeved shirts long pants prevent mosquito bites  "
      ]
     },
     "execution_count": 247,
     "metadata": {},
     "output_type": "execute_result"
    }
   ],
   "source": [
    "df_sentences.head(10)"
   ]
  },
  {
   "cell_type": "markdown",
   "metadata": {},
   "source": [
    "### Text WordCloud"
   ]
  },
  {
   "cell_type": "code",
   "execution_count": 248,
   "metadata": {},
   "outputs": [
    {
     "data": {
      "image/png": "[encoded data removed]",
      "text/plain": [
       "<Figure size 864x432 with 1 Axes>"
      ]
     },
     "metadata": {
      "needs_background": "light"
     },
     "output_type": "display_data"
    }
   ],
   "source": [
    "from wordcloud import WordCloud, STOPWORDS, ImageColorGenerator\n",
    "\n",
    "wordcloud_text = WordCloud(max_font_size=50, max_words=100, background_color=\"white\").generate(''.join(sentences_c))\n",
    "\n",
    "# Display the generated image:\n",
    "plt.figure(figsize=(12,6))\n",
    "plt.imshow(wordcloud_text, interpolation='bilinear')\n",
    "plt.axis(\"off\")\n",
    "plt.show()"
   ]
  },
  {
   "cell_type": "markdown",
   "metadata": {},
   "source": [
    "### Load GloVe Word Embeddings"
   ]
  },
  {
   "cell_type": "code",
   "execution_count": 249,
   "metadata": {},
   "outputs": [],
   "source": [
    "embedding_path = '/Users/guathwalow/Downloads/glove.6B.100d'\n",
    "#convert_to_binary(embedding_path)  #one-time execution to create .vocab, .npy file\n",
    "word_embeddings = load_embeddings_binary(embedding_path)"
   ]
  },
  {
   "cell_type": "markdown",
   "metadata": {},
   "source": [
    "### Create sentence vectors"
   ]
  },
  {
   "cell_type": "code",
   "execution_count": 250,
   "metadata": {},
   "outputs": [],
   "source": [
    "sentence_vectors = create_sentence_vectors(sentences_c,word_embeddings)"
   ]
  },
  {
   "cell_type": "code",
   "execution_count": 251,
   "metadata": {
    "scrolled": true
   },
   "outputs": [
    {
     "data": {
      "text/plain": [
       "(8, 100)"
      ]
     },
     "execution_count": 251,
     "metadata": {},
     "output_type": "execute_result"
    }
   ],
   "source": [
    "len(sentence_vectors), len(sentence_vectors[0])  # 8 sentences, 100 columns each"
   ]
  },
  {
   "cell_type": "code",
   "execution_count": 252,
   "metadata": {
    "scrolled": true
   },
   "outputs": [
    {
     "data": {
      "text/plain": [
       "array([-0.02701154,  0.1276024 ,  0.40063167, -0.06225561,  0.08984156,\n",
       "       -0.12425252,  0.36225098, -0.18589519, -0.06855522, -0.30007999,\n",
       "       -0.3871039 , -0.09100355,  0.36632206,  0.13217153,  0.38814135,\n",
       "       -0.09055235,  0.14118535, -0.44975902, -0.20298509, -0.38071721,\n",
       "        0.35074939,  0.09888428,  0.32742359,  0.06032806,  0.15401954,\n",
       "        0.40528407,  0.24439894, -0.25468821, -0.04066594, -0.22856231,\n",
       "        0.17059813,  0.34450323,  0.19139315, -0.04994146,  0.12316889,\n",
       "        0.04454786,  0.029992  , -0.00788865, -0.19863167,  0.36134007,\n",
       "       -0.70155822,  0.15060994, -0.40007227, -0.46854517,  0.77371512,\n",
       "        0.43394255,  0.46469121, -0.17501651, -0.35149894, -0.26174102,\n",
       "        0.06083738,  0.20434986,  0.06007908,  0.49327316, -0.093142  ,\n",
       "       -1.53619853, -0.04791564, -0.28309154,  1.11116989,  0.41401863,\n",
       "        0.03519189,  0.58486792,  0.36093955, -0.0637742 ,  0.6086069 ,\n",
       "        0.55099246, -0.29974275,  0.16000091,  0.4209271 , -0.09533788,\n",
       "       -0.12606863, -0.49236342, -0.16778111, -0.09669721,  0.5340979 ,\n",
       "       -0.12636188, -0.04353332, -0.1286847 , -0.89675575,  0.26253291,\n",
       "        0.53770748,  0.08764621, -0.64729661,  0.2895155 , -0.89736115,\n",
       "       -0.10658367,  0.01224179, -0.08203082, -0.16395782,  0.15664885,\n",
       "       -0.18375748, -0.37786401,  0.01483956, -0.02779466, -0.44027652,\n",
       "        0.40705172, -0.12769039, -0.40171669,  0.5666394 , -0.24715237])"
      ]
     },
     "execution_count": 252,
     "metadata": {},
     "output_type": "execute_result"
    }
   ],
   "source": [
    "sentence_vectors[0]"
   ]
  },
  {
   "cell_type": "code",
   "execution_count": 253,
   "metadata": {},
   "outputs": [],
   "source": [
    "## Create Sentence Similarity Matrix"
   ]
  },
  {
   "cell_type": "code",
   "execution_count": 254,
   "metadata": {},
   "outputs": [],
   "source": [
    "sim_mat = get_similarity_matrix(sentences_c,sentence_vectors)"
   ]
  },
  {
   "cell_type": "code",
   "execution_count": 255,
   "metadata": {},
   "outputs": [
    {
     "data": {
      "text/plain": [
       "(8, 8)"
      ]
     },
     "execution_count": 255,
     "metadata": {},
     "output_type": "execute_result"
    }
   ],
   "source": [
    "sim_mat.shape"
   ]
  },
  {
   "cell_type": "code",
   "execution_count": 256,
   "metadata": {},
   "outputs": [
    {
     "data": {
      "text/plain": [
       "array([[0.        , 0.81342199, 0.75779284, 0.70870836, 0.6465662 ,\n",
       "        0.79532613, 0.81467015, 0.67273874],\n",
       "       [0.81342199, 0.        , 0.68963135, 0.78166591, 0.81352139,\n",
       "        0.77481469, 0.83345885, 0.76479294],\n",
       "       [0.75779284, 0.68963135, 0.        , 0.60107376, 0.60736661,\n",
       "        0.801145  , 0.77375647, 0.63982389],\n",
       "       [0.70870836, 0.78166591, 0.60107376, 0.        , 0.76510523,\n",
       "        0.71863766, 0.77733041, 0.669815  ],\n",
       "       [0.6465662 , 0.81352139, 0.60736661, 0.76510523, 0.        ,\n",
       "        0.72666033, 0.82967249, 0.59726125],\n",
       "       [0.79532613, 0.77481469, 0.801145  , 0.71863766, 0.72666033,\n",
       "        0.        , 0.91129263, 0.65670767],\n",
       "       [0.81467015, 0.83345885, 0.77375647, 0.77733041, 0.82967249,\n",
       "        0.91129263, 0.        , 0.68194634],\n",
       "       [0.67273874, 0.76479294, 0.63982389, 0.669815  , 0.59726125,\n",
       "        0.65670767, 0.68194634, 0.        ]])"
      ]
     },
     "execution_count": 256,
     "metadata": {},
     "output_type": "execute_result"
    }
   ],
   "source": [
    "sim_mat   # 8 x 8 matrix"
   ]
  },
  {
   "cell_type": "code",
   "execution_count": 257,
   "metadata": {},
   "outputs": [
    {
     "data": {
      "text/html": [
       "<div>\n",
       "<style scoped>\n",
       "    .dataframe tbody tr th:only-of-type {\n",
       "        vertical-align: middle;\n",
       "    }\n",
       "\n",
       "    .dataframe tbody tr th {\n",
       "        vertical-align: top;\n",
       "    }\n",
       "\n",
       "    .dataframe thead th {\n",
       "        text-align: right;\n",
       "    }\n",
       "</style>\n",
       "<table border=\"1\" class=\"dataframe\">\n",
       "  <thead>\n",
       "    <tr style=\"text-align: right;\">\n",
       "      <th></th>\n",
       "      <th>0</th>\n",
       "      <th>1</th>\n",
       "      <th>2</th>\n",
       "      <th>3</th>\n",
       "      <th>4</th>\n",
       "      <th>5</th>\n",
       "      <th>6</th>\n",
       "      <th>7</th>\n",
       "    </tr>\n",
       "  </thead>\n",
       "  <tbody>\n",
       "    <tr>\n",
       "      <td>0</td>\n",
       "      <td>0.000000</td>\n",
       "      <td>0.813422</td>\n",
       "      <td>0.757793</td>\n",
       "      <td>0.708708</td>\n",
       "      <td>0.646566</td>\n",
       "      <td>0.795326</td>\n",
       "      <td>0.814670</td>\n",
       "      <td>0.672739</td>\n",
       "    </tr>\n",
       "    <tr>\n",
       "      <td>1</td>\n",
       "      <td>0.813422</td>\n",
       "      <td>0.000000</td>\n",
       "      <td>0.689631</td>\n",
       "      <td>0.781666</td>\n",
       "      <td>0.813521</td>\n",
       "      <td>0.774815</td>\n",
       "      <td>0.833459</td>\n",
       "      <td>0.764793</td>\n",
       "    </tr>\n",
       "    <tr>\n",
       "      <td>2</td>\n",
       "      <td>0.757793</td>\n",
       "      <td>0.689631</td>\n",
       "      <td>0.000000</td>\n",
       "      <td>0.601074</td>\n",
       "      <td>0.607367</td>\n",
       "      <td>0.801145</td>\n",
       "      <td>0.773756</td>\n",
       "      <td>0.639824</td>\n",
       "    </tr>\n",
       "    <tr>\n",
       "      <td>3</td>\n",
       "      <td>0.708708</td>\n",
       "      <td>0.781666</td>\n",
       "      <td>0.601074</td>\n",
       "      <td>0.000000</td>\n",
       "      <td>0.765105</td>\n",
       "      <td>0.718638</td>\n",
       "      <td>0.777330</td>\n",
       "      <td>0.669815</td>\n",
       "    </tr>\n",
       "    <tr>\n",
       "      <td>4</td>\n",
       "      <td>0.646566</td>\n",
       "      <td>0.813521</td>\n",
       "      <td>0.607367</td>\n",
       "      <td>0.765105</td>\n",
       "      <td>0.000000</td>\n",
       "      <td>0.726660</td>\n",
       "      <td>0.829672</td>\n",
       "      <td>0.597261</td>\n",
       "    </tr>\n",
       "    <tr>\n",
       "      <td>5</td>\n",
       "      <td>0.795326</td>\n",
       "      <td>0.774815</td>\n",
       "      <td>0.801145</td>\n",
       "      <td>0.718638</td>\n",
       "      <td>0.726660</td>\n",
       "      <td>0.000000</td>\n",
       "      <td>0.911293</td>\n",
       "      <td>0.656708</td>\n",
       "    </tr>\n",
       "    <tr>\n",
       "      <td>6</td>\n",
       "      <td>0.814670</td>\n",
       "      <td>0.833459</td>\n",
       "      <td>0.773756</td>\n",
       "      <td>0.777330</td>\n",
       "      <td>0.829672</td>\n",
       "      <td>0.911293</td>\n",
       "      <td>0.000000</td>\n",
       "      <td>0.681946</td>\n",
       "    </tr>\n",
       "    <tr>\n",
       "      <td>7</td>\n",
       "      <td>0.672739</td>\n",
       "      <td>0.764793</td>\n",
       "      <td>0.639824</td>\n",
       "      <td>0.669815</td>\n",
       "      <td>0.597261</td>\n",
       "      <td>0.656708</td>\n",
       "      <td>0.681946</td>\n",
       "      <td>0.000000</td>\n",
       "    </tr>\n",
       "  </tbody>\n",
       "</table>\n",
       "</div>"
      ],
      "text/plain": [
       "          0         1         2         3         4         5         6  \\\n",
       "0  0.000000  0.813422  0.757793  0.708708  0.646566  0.795326  0.814670   \n",
       "1  0.813422  0.000000  0.689631  0.781666  0.813521  0.774815  0.833459   \n",
       "2  0.757793  0.689631  0.000000  0.601074  0.607367  0.801145  0.773756   \n",
       "3  0.708708  0.781666  0.601074  0.000000  0.765105  0.718638  0.777330   \n",
       "4  0.646566  0.813521  0.607367  0.765105  0.000000  0.726660  0.829672   \n",
       "5  0.795326  0.774815  0.801145  0.718638  0.726660  0.000000  0.911293   \n",
       "6  0.814670  0.833459  0.773756  0.777330  0.829672  0.911293  0.000000   \n",
       "7  0.672739  0.764793  0.639824  0.669815  0.597261  0.656708  0.681946   \n",
       "\n",
       "          7  \n",
       "0  0.672739  \n",
       "1  0.764793  \n",
       "2  0.639824  \n",
       "3  0.669815  \n",
       "4  0.597261  \n",
       "5  0.656708  \n",
       "6  0.681946  \n",
       "7  0.000000  "
      ]
     },
     "execution_count": 257,
     "metadata": {},
     "output_type": "execute_result"
    }
   ],
   "source": [
    "pd.DataFrame(sim_mat)"
   ]
  },
  {
   "cell_type": "markdown",
   "metadata": {},
   "source": [
    "### Sentence Scoring"
   ]
  },
  {
   "cell_type": "code",
   "execution_count": 258,
   "metadata": {},
   "outputs": [
    {
     "data": {
      "text/plain": [
       "0.12628603855990464"
      ]
     },
     "execution_count": 258,
     "metadata": {},
     "output_type": "execute_result"
    }
   ],
   "source": [
    "#sentence 1 similarity score\n",
    "sim_mat[0].sum() / sim_mat.sum()"
   ]
  },
  {
   "cell_type": "code",
   "execution_count": 259,
   "metadata": {},
   "outputs": [
    {
     "data": {
      "text/plain": [
       "0.13263965033619965"
      ]
     },
     "execution_count": 259,
     "metadata": {},
     "output_type": "execute_result"
    }
   ],
   "source": [
    "#sentence 2 similarity score\n",
    "sim_mat[1].sum() / sim_mat.sum()"
   ]
  },
  {
   "cell_type": "code",
   "execution_count": 260,
   "metadata": {},
   "outputs": [],
   "source": [
    "nx_graph = convert_matrix_to_graph(sim_mat)\n",
    "scores = score_sentences(nx_graph)\n",
    "\n",
    "# Save score to dataframe\n",
    "df_sentences['scores'] = scores.values()"
   ]
  },
  {
   "cell_type": "code",
   "execution_count": 261,
   "metadata": {},
   "outputs": [
    {
     "data": {
      "text/html": [
       "<div>\n",
       "<style scoped>\n",
       "    .dataframe tbody tr th:only-of-type {\n",
       "        vertical-align: middle;\n",
       "    }\n",
       "\n",
       "    .dataframe tbody tr th {\n",
       "        vertical-align: top;\n",
       "    }\n",
       "\n",
       "    .dataframe thead th {\n",
       "        text-align: right;\n",
       "    }\n",
       "</style>\n",
       "<table border=\"1\" class=\"dataframe\">\n",
       "  <thead>\n",
       "    <tr style=\"text-align: right;\">\n",
       "      <th></th>\n",
       "      <th>text</th>\n",
       "      <th>wordcount</th>\n",
       "      <th>clean_text</th>\n",
       "      <th>scores</th>\n",
       "    </tr>\n",
       "  </thead>\n",
       "  <tbody>\n",
       "    <tr>\n",
       "      <td>0</td>\n",
       "      <td>West Nile virus (WNV) is the leading cause of mosquito-borne disease in the continental United States.</td>\n",
       "      <td>17</td>\n",
       "      <td>west nile virus leading cause mosquito borne disease continental united states</td>\n",
       "      <td>0.126109</td>\n",
       "    </tr>\n",
       "    <tr>\n",
       "      <td>1</td>\n",
       "      <td>It is most commonly spread to people by the bite of an infected mosquito.</td>\n",
       "      <td>14</td>\n",
       "      <td>commonly spread people bite infected mosquito</td>\n",
       "      <td>0.131645</td>\n",
       "    </tr>\n",
       "    <tr>\n",
       "      <td>2</td>\n",
       "      <td>Cases of WNV occur during mosquito season, which starts in the summer and continues through fall.</td>\n",
       "      <td>16</td>\n",
       "      <td>cases wnv occur mosquito season starts summer continues fall</td>\n",
       "      <td>0.118994</td>\n",
       "    </tr>\n",
       "    <tr>\n",
       "      <td>3</td>\n",
       "      <td>There are no vaccines to prevent or medications to treat WNV in people.</td>\n",
       "      <td>13</td>\n",
       "      <td>vaccines prevent medications treat wnv people</td>\n",
       "      <td>0.122192</td>\n",
       "    </tr>\n",
       "    <tr>\n",
       "      <td>4</td>\n",
       "      <td>Fortunately, most people infected with WNV do not feel sick.</td>\n",
       "      <td>10</td>\n",
       "      <td>fortunately people infected wnv feel sick</td>\n",
       "      <td>0.121399</td>\n",
       "    </tr>\n",
       "    <tr>\n",
       "      <td>5</td>\n",
       "      <td>About 1 in 5 people who are infecteedge_cmapd develop a fever and other symptoms.</td>\n",
       "      <td>14</td>\n",
       "      <td>1 5 people infecteedge cmapd develop fever symptoms</td>\n",
       "      <td>0.129787</td>\n",
       "    </tr>\n",
       "    <tr>\n",
       "      <td>6</td>\n",
       "      <td>About 1 out of 150 infected people develop a serious, sometimes fatal, illness.</td>\n",
       "      <td>13</td>\n",
       "      <td>1 150 infected people develop serious sometimes fatal illness</td>\n",
       "      <td>0.134789</td>\n",
       "    </tr>\n",
       "    <tr>\n",
       "      <td>7</td>\n",
       "      <td>You can reduce your risk of WNV by using insect repellent and wearing long-sleeved shirts and long pants to prevent mosquito bites.</td>\n",
       "      <td>23</td>\n",
       "      <td>reduce risk wnv using insect repellent wearing long sleeved shirts long pants prevent mosquito bites</td>\n",
       "      <td>0.115086</td>\n",
       "    </tr>\n",
       "  </tbody>\n",
       "</table>\n",
       "</div>"
      ],
      "text/plain": [
       "                                                                                                                                  text  \\\n",
       "0  West Nile virus (WNV) is the leading cause of mosquito-borne disease in the continental United States.                                \n",
       "1  It is most commonly spread to people by the bite of an infected mosquito.                                                             \n",
       "2  Cases of WNV occur during mosquito season, which starts in the summer and continues through fall.                                     \n",
       "3  There are no vaccines to prevent or medications to treat WNV in people.                                                               \n",
       "4  Fortunately, most people infected with WNV do not feel sick.                                                                          \n",
       "5  About 1 in 5 people who are infecteedge_cmapd develop a fever and other symptoms.                                                     \n",
       "6  About 1 out of 150 infected people develop a serious, sometimes fatal, illness.                                                       \n",
       "7  You can reduce your risk of WNV by using insect repellent and wearing long-sleeved shirts and long pants to prevent mosquito bites.   \n",
       "\n",
       "   wordcount  \\\n",
       "0  17          \n",
       "1  14          \n",
       "2  16          \n",
       "3  13          \n",
       "4  10          \n",
       "5  14          \n",
       "6  13          \n",
       "7  23          \n",
       "\n",
       "                                                                                             clean_text  \\\n",
       "0  west nile virus leading cause mosquito borne disease continental united states                         \n",
       "1  commonly spread people bite infected mosquito                                                          \n",
       "2  cases wnv occur mosquito season starts summer continues fall                                           \n",
       "3  vaccines prevent medications treat wnv people                                                          \n",
       "4  fortunately people infected wnv feel sick                                                              \n",
       "5  1 5 people infecteedge cmapd develop fever symptoms                                                    \n",
       "6  1 150 infected people develop serious sometimes fatal illness                                          \n",
       "7  reduce risk wnv using insect repellent wearing long sleeved shirts long pants prevent mosquito bites   \n",
       "\n",
       "     scores  \n",
       "0  0.126109  \n",
       "1  0.131645  \n",
       "2  0.118994  \n",
       "3  0.122192  \n",
       "4  0.121399  \n",
       "5  0.129787  \n",
       "6  0.134789  \n",
       "7  0.115086  "
      ]
     },
     "execution_count": 261,
     "metadata": {},
     "output_type": "execute_result"
    }
   ],
   "source": [
    "df_sentences"
   ]
  },
  {
   "cell_type": "markdown",
   "metadata": {},
   "source": [
    "### Sentence Matrix Graph"
   ]
  },
  {
   "cell_type": "code",
   "execution_count": 262,
   "metadata": {},
   "outputs": [
    {
     "name": "stderr",
     "output_type": "stream",
     "text": [
      "MatplotlibDeprecationWarning: \n",
      "The iterable function was deprecated in Matplotlib 3.1 and will be removed in 3.3. Use np.iterable instead. [nx_pylab.py:579]\n"
     ]
    },
    {
     "data": {
      "image/png": "[encoded data removed]",
      "text/plain": [
       "<Figure size 864x576 with 1 Axes>"
      ]
     },
     "metadata": {},
     "output_type": "display_data"
    }
   ],
   "source": [
    "# Draw the network\n",
    "plt.figure(figsize=(12,8))\n",
    "nx.draw_networkx(nx_graph, edge_cmap='coolwarm', node_size=900, font_size=25)"
   ]
  },
  {
   "cell_type": "markdown",
   "metadata": {},
   "source": [
    "### Sentence Ranking"
   ]
  },
  {
   "cell_type": "code",
   "execution_count": 263,
   "metadata": {},
   "outputs": [],
   "source": [
    "# store rank in dataframe\n",
    "ranked_sentences = rank_sentences(sentences,scores)\n",
    "for i,r in enumerate(ranked_sentences):\n",
    "    df_sentences.loc[r[2],'rank'] = i+1\n",
    "df_sentences['rank'] = df_sentences['rank'].astype(int)"
   ]
  },
  {
   "cell_type": "code",
   "execution_count": 264,
   "metadata": {},
   "outputs": [
    {
     "data": {
      "text/html": [
       "<div>\n",
       "<style scoped>\n",
       "    .dataframe tbody tr th:only-of-type {\n",
       "        vertical-align: middle;\n",
       "    }\n",
       "\n",
       "    .dataframe tbody tr th {\n",
       "        vertical-align: top;\n",
       "    }\n",
       "\n",
       "    .dataframe thead th {\n",
       "        text-align: right;\n",
       "    }\n",
       "</style>\n",
       "<table border=\"1\" class=\"dataframe\">\n",
       "  <thead>\n",
       "    <tr style=\"text-align: right;\">\n",
       "      <th></th>\n",
       "      <th>text</th>\n",
       "      <th>scores</th>\n",
       "      <th>rank</th>\n",
       "    </tr>\n",
       "  </thead>\n",
       "  <tbody>\n",
       "    <tr>\n",
       "      <td>0</td>\n",
       "      <td>West Nile virus (WNV) is the leading cause of mosquito-borne disease in the continental United States.</td>\n",
       "      <td>0.126109</td>\n",
       "      <td>4</td>\n",
       "    </tr>\n",
       "    <tr>\n",
       "      <td>1</td>\n",
       "      <td>It is most commonly spread to people by the bite of an infected mosquito.</td>\n",
       "      <td>0.131645</td>\n",
       "      <td>2</td>\n",
       "    </tr>\n",
       "    <tr>\n",
       "      <td>2</td>\n",
       "      <td>Cases of WNV occur during mosquito season, which starts in the summer and continues through fall.</td>\n",
       "      <td>0.118994</td>\n",
       "      <td>7</td>\n",
       "    </tr>\n",
       "    <tr>\n",
       "      <td>3</td>\n",
       "      <td>There are no vaccines to prevent or medications to treat WNV in people.</td>\n",
       "      <td>0.122192</td>\n",
       "      <td>5</td>\n",
       "    </tr>\n",
       "    <tr>\n",
       "      <td>4</td>\n",
       "      <td>Fortunately, most people infected with WNV do not feel sick.</td>\n",
       "      <td>0.121399</td>\n",
       "      <td>6</td>\n",
       "    </tr>\n",
       "    <tr>\n",
       "      <td>5</td>\n",
       "      <td>About 1 in 5 people who are infecteedge_cmapd develop a fever and other symptoms.</td>\n",
       "      <td>0.129787</td>\n",
       "      <td>3</td>\n",
       "    </tr>\n",
       "    <tr>\n",
       "      <td>6</td>\n",
       "      <td>About 1 out of 150 infected people develop a serious, sometimes fatal, illness.</td>\n",
       "      <td>0.134789</td>\n",
       "      <td>1</td>\n",
       "    </tr>\n",
       "    <tr>\n",
       "      <td>7</td>\n",
       "      <td>You can reduce your risk of WNV by using insect repellent and wearing long-sleeved shirts and long pants to prevent mosquito bites.</td>\n",
       "      <td>0.115086</td>\n",
       "      <td>8</td>\n",
       "    </tr>\n",
       "  </tbody>\n",
       "</table>\n",
       "</div>"
      ],
      "text/plain": [
       "                                                                                                                                  text  \\\n",
       "0  West Nile virus (WNV) is the leading cause of mosquito-borne disease in the continental United States.                                \n",
       "1  It is most commonly spread to people by the bite of an infected mosquito.                                                             \n",
       "2  Cases of WNV occur during mosquito season, which starts in the summer and continues through fall.                                     \n",
       "3  There are no vaccines to prevent or medications to treat WNV in people.                                                               \n",
       "4  Fortunately, most people infected with WNV do not feel sick.                                                                          \n",
       "5  About 1 in 5 people who are infecteedge_cmapd develop a fever and other symptoms.                                                     \n",
       "6  About 1 out of 150 infected people develop a serious, sometimes fatal, illness.                                                       \n",
       "7  You can reduce your risk of WNV by using insect repellent and wearing long-sleeved shirts and long pants to prevent mosquito bites.   \n",
       "\n",
       "     scores  rank  \n",
       "0  0.126109  4     \n",
       "1  0.131645  2     \n",
       "2  0.118994  7     \n",
       "3  0.122192  5     \n",
       "4  0.121399  6     \n",
       "5  0.129787  3     \n",
       "6  0.134789  1     \n",
       "7  0.115086  8     "
      ]
     },
     "execution_count": 264,
     "metadata": {},
     "output_type": "execute_result"
    }
   ],
   "source": [
    "cols = ['text','scores','rank']\n",
    "df_sentences[cols].head(10)"
   ]
  },
  {
   "cell_type": "markdown",
   "metadata": {},
   "source": [
    "### Sentence Selection"
   ]
  },
  {
   "cell_type": "code",
   "execution_count": 265,
   "metadata": {},
   "outputs": [
    {
     "data": {
      "text/plain": [
       "['West Nile virus (WNV) is the leading cause of mosquito-borne disease in the continental United States.',\n",
       " 'It is most commonly spread to people by the bite of an infected mosquito.',\n",
       " 'There are no vaccines to prevent or medications to treat WNV in people.',\n",
       " 'Fortunately, most people infected with WNV do not feel sick.',\n",
       " 'About 1 in 5 people who are infecteedge_cmapd develop a fever and other symptoms.',\n",
       " 'About 1 out of 150 infected people develop a serious, sometimes fatal, illness.']"
      ]
     },
     "execution_count": 265,
     "metadata": {},
     "output_type": "execute_result"
    }
   ],
   "source": [
    "textrank_summary = extract_top_sentences(ranked_sentences,6)\n",
    "textrank_summary"
   ]
  },
  {
   "cell_type": "code",
   "execution_count": 266,
   "metadata": {},
   "outputs": [
    {
     "data": {
      "text/plain": [
       "['West Nile virus (WNV) is the leading cause of mosquito-borne disease in the continental United States.',\n",
       " 'It is most commonly spread to people by the bite of an infected mosquito.',\n",
       " 'Cases of WNV occur during mosquito season, which starts in the summer and continues through fall.',\n",
       " 'There are no vaccines to prevent or medications to treat WNV in people.',\n",
       " 'Fortunately, most people infected with WNV do not feel sick.',\n",
       " 'About 1 out of 150 infected people develop a serious, sometimes fatal, illness.']"
      ]
     },
     "execution_count": 266,
     "metadata": {},
     "output_type": "execute_result"
    }
   ],
   "source": [
    "extract_top_sentences_sim_threshold(ranked_sentences,6, sim_mat, rank=False, sim_threshold = 0.90)"
   ]
  },
  {
   "cell_type": "markdown",
   "metadata": {},
   "source": [
    "# Model 2 : Centroid-Based BOW Summarization"
   ]
  },
  {
   "cell_type": "markdown",
   "metadata": {},
   "source": [
    "- Refer: https://www.aclweb.org/anthology/W17-1003/\n",
    "- Refer: https://github.com/gaetangate/text-summarizer/blob/master/text_summarizer/centroid_bow.py\n",
    "- This model uses the bag-of-words (based on TF-IDF) to convert the words in sentences to vectors. \n",
    "It then identify the centroid vector of the document based on the sum of all the word vectors to identify keywords.\n",
    "A topic threshold of 0.3 is used to check for low importance word vectors and set their values to 0. \n",
    "Scoring of sentences is done using cosine distance between the sentence vectors and centroid vector.\n",
    "Selection of sentences is based on the scores. A similarity threshold is used to exclude sentences that are similar to those already in summary."
   ]
  },
  {
   "cell_type": "markdown",
   "metadata": {},
   "source": [
    "This function is used to score the similarity of 2 vectors."
   ]
  },
  {
   "cell_type": "code",
   "execution_count": 267,
   "metadata": {},
   "outputs": [],
   "source": [
    "from sklearn.feature_extraction.text import CountVectorizer, TfidfTransformer, TfidfVectorizer\n",
    "from scipy.spatial.distance import cosine\n",
    "#function to score the similarity between 2 vectors\n",
    "def similarity(v1, v2):\n",
    "    score = 0.0\n",
    "    if np.count_nonzero(v1) != 0 and np.count_nonzero(v2) != 0:\n",
    "        score = ((1 - cosine(v1, v2)) + 1) / 2\n",
    "    return score"
   ]
  },
  {
   "cell_type": "markdown",
   "metadata": {},
   "source": [
    "This function is used to generated the summary for all the required steps."
   ]
  },
  {
   "cell_type": "code",
   "execution_count": 268,
   "metadata": {},
   "outputs": [],
   "source": [
    "def generate_summary_cbow(text, top_n):\n",
    "\n",
    "    topic_threshold=0.3\n",
    "    sim_threshold=0.95\n",
    "    \n",
    "    # Get list of sentences\n",
    "    sentences = get_sentences(text)\n",
    "\n",
    "    # clean all sentences\n",
    "    print('cleaning sentences ...')\n",
    "    sentences_c = clean_all_sentences(sentences,stop_words)\n",
    "\n",
    "    # convert sentences to word vectors using countvectorizer\n",
    "    print('converting to TFIDF ...')\n",
    "    vectorizer = CountVectorizer()\n",
    "    bag_of_words = vectorizer.fit_transform(sentences_c)\n",
    "\n",
    "    # transform word vectors to tfidf\n",
    "    transformer = TfidfTransformer(norm=None, sublinear_tf=False, smooth_idf=False)\n",
    "    tfidf = transformer.fit_transform(bag_of_words)\n",
    "    tfidf = tfidf.toarray()\n",
    "    \n",
    "\n",
    "    # find centroid vector\n",
    "    # for sentence's centroid vector that is less than topic_threshold, set it to 0 (exclude from summary)\n",
    "    print('getting sentences close to centroid vector ...')\n",
    "    centroid_vector = tfidf.sum(0)\n",
    "    centroid_vector = np.divide(centroid_vector, centroid_vector.max())\n",
    "    for i in range(centroid_vector.shape[0]):\n",
    "        if centroid_vector[i] <= topic_threshold:\n",
    "            centroid_vector[i] = 0\n",
    "\n",
    "    # sentence scoring based on similarity with the centroid vector\n",
    "    print('Scoring sentences ...')\n",
    "    sentences_scores = []\n",
    "    for i in range(tfidf.shape[0]):\n",
    "        score = similarity(tfidf[i, :], centroid_vector)\n",
    "        sentences_scores.append((i, sentences[i], score, tfidf[i, :]))\n",
    "\n",
    "    sentence_scores_sort = sorted(sentences_scores, key=lambda el: el[2], reverse=True)\n",
    "    #print(sentence_scores_sort)\n",
    "\n",
    "    # sentence selection\n",
    "    print('Extracting sentences ...')\n",
    "    count = 0\n",
    "    sentences_summary = []\n",
    "    for s in sentence_scores_sort:\n",
    "        if count > top_n:\n",
    "            break\n",
    "        include_flag = True\n",
    "        for ps in sentences_summary:\n",
    "            sim = similarity(s[3], ps[3])\n",
    "            \n",
    "            # exclude similar sentences based on sim_threshold\n",
    "            if sim > sim_threshold:\n",
    "                include_flag = False\n",
    "        if include_flag:\n",
    "            sentences_summary.append(s)\n",
    "            count += 1\n",
    "\n",
    "    # sort the summary based on sentence order\n",
    "    sentences_summary_sort = sorted(sentences_summary, key=lambda el: el[0])\n",
    "    \n",
    "    generated_summary = \"\\n\".join([s[1] for s in sentences_summary_sort])\n",
    "    print('Completed ...')\n",
    "    return(generated_summary)      "
   ]
  },
  {
   "cell_type": "markdown",
   "metadata": {},
   "source": [
    "## Sample Test Case"
   ]
  },
  {
   "cell_type": "markdown",
   "metadata": {},
   "source": [
    "In this section, we ran a simple test case based on a block of text to test out all the steps."
   ]
  },
  {
   "cell_type": "markdown",
   "metadata": {},
   "source": [
    "### Read text from block"
   ]
  },
  {
   "cell_type": "code",
   "execution_count": 269,
   "metadata": {},
   "outputs": [],
   "source": [
    "text = \"\"\"West Nile virus (WNV) is the leading cause of mosquito-borne disease in the continental United States. It is most commonly spread to people by the bite of an infected mosquito. Cases of WNV occur during mosquito season, which starts in the summer and continues through fall. There are no vaccines to prevent or medications to treat WNV in people. Fortunately, most people infected with WNV do not feel sick. About 1 in 5 people who are infected develop a fever and other symptoms. About 1 out of 150 infected people develop a serious, sometimes fatal, illness. You can reduce your risk of WNV by using insect repellent and wearing long-sleeved shirts and long pants to prevent mosquito bites.\"\"\""
   ]
  },
  {
   "cell_type": "code",
   "execution_count": 270,
   "metadata": {},
   "outputs": [
    {
     "name": "stdout",
     "output_type": "stream",
     "text": [
      "Number of words :  120\n",
      "Number of sentences :  8\n"
     ]
    }
   ],
   "source": [
    "print('Number of words : ',get_wordcount(''.join(text)))\n",
    "print('Number of sentences : ', get_sentencecount(text))"
   ]
  },
  {
   "cell_type": "markdown",
   "metadata": {},
   "source": [
    "### Split text into sentences"
   ]
  },
  {
   "cell_type": "code",
   "execution_count": 271,
   "metadata": {},
   "outputs": [],
   "source": [
    "sentences = get_sentences(text)"
   ]
  },
  {
   "cell_type": "markdown",
   "metadata": {},
   "source": [
    "### Clean the sentences"
   ]
  },
  {
   "cell_type": "code",
   "execution_count": 272,
   "metadata": {},
   "outputs": [],
   "source": [
    "sentences_c = clean_all_sentences(sentences,stop_words)"
   ]
  },
  {
   "cell_type": "markdown",
   "metadata": {},
   "source": [
    "### Create sentence vectors using TFIDF"
   ]
  },
  {
   "cell_type": "code",
   "execution_count": 273,
   "metadata": {},
   "outputs": [
    {
     "data": {
      "text/plain": [
       "(8, 50)"
      ]
     },
     "execution_count": 273,
     "metadata": {},
     "output_type": "execute_result"
    }
   ],
   "source": [
    "# create vector of word counts\n",
    "cvec = CountVectorizer()\n",
    "bag_of_words = cvec.fit_transform(sentences_c)\n",
    "bag_of_words.shape  # 8 rows (sentences), 52 columns (vocab size)"
   ]
  },
  {
   "cell_type": "code",
   "execution_count": 274,
   "metadata": {},
   "outputs": [],
   "source": [
    "# Create a dataframe to store our sentence vectors\n",
    "df_cvec = pd.DataFrame(bag_of_words.toarray(),\n",
    "                       columns=cvec.get_feature_names())"
   ]
  },
  {
   "cell_type": "code",
   "execution_count": 275,
   "metadata": {},
   "outputs": [
    {
     "data": {
      "text/html": [
       "<div>\n",
       "<style scoped>\n",
       "    .dataframe tbody tr th:only-of-type {\n",
       "        vertical-align: middle;\n",
       "    }\n",
       "\n",
       "    .dataframe tbody tr th {\n",
       "        vertical-align: top;\n",
       "    }\n",
       "\n",
       "    .dataframe thead th {\n",
       "        text-align: right;\n",
       "    }\n",
       "</style>\n",
       "<table border=\"1\" class=\"dataframe\">\n",
       "  <thead>\n",
       "    <tr style=\"text-align: right;\">\n",
       "      <th></th>\n",
       "      <th>150</th>\n",
       "      <th>bite</th>\n",
       "      <th>bites</th>\n",
       "      <th>borne</th>\n",
       "      <th>cases</th>\n",
       "      <th>cause</th>\n",
       "      <th>commonly</th>\n",
       "      <th>continental</th>\n",
       "      <th>continues</th>\n",
       "      <th>develop</th>\n",
       "      <th>disease</th>\n",
       "      <th>fall</th>\n",
       "      <th>fatal</th>\n",
       "      <th>feel</th>\n",
       "      <th>fever</th>\n",
       "      <th>fortunately</th>\n",
       "      <th>illness</th>\n",
       "      <th>infected</th>\n",
       "      <th>insect</th>\n",
       "      <th>leading</th>\n",
       "      <th>long</th>\n",
       "      <th>medications</th>\n",
       "      <th>mosquito</th>\n",
       "      <th>nile</th>\n",
       "      <th>occur</th>\n",
       "      <th>pants</th>\n",
       "      <th>people</th>\n",
       "      <th>prevent</th>\n",
       "      <th>reduce</th>\n",
       "      <th>repellent</th>\n",
       "      <th>risk</th>\n",
       "      <th>season</th>\n",
       "      <th>serious</th>\n",
       "      <th>shirts</th>\n",
       "      <th>sick</th>\n",
       "      <th>sleeved</th>\n",
       "      <th>sometimes</th>\n",
       "      <th>spread</th>\n",
       "      <th>starts</th>\n",
       "      <th>states</th>\n",
       "      <th>summer</th>\n",
       "      <th>symptoms</th>\n",
       "      <th>treat</th>\n",
       "      <th>united</th>\n",
       "      <th>using</th>\n",
       "      <th>vaccines</th>\n",
       "      <th>virus</th>\n",
       "      <th>wearing</th>\n",
       "      <th>west</th>\n",
       "      <th>wnv</th>\n",
       "    </tr>\n",
       "  </thead>\n",
       "  <tbody>\n",
       "    <tr>\n",
       "      <td>0</td>\n",
       "      <td>0</td>\n",
       "      <td>0</td>\n",
       "      <td>0</td>\n",
       "      <td>1</td>\n",
       "      <td>0</td>\n",
       "      <td>1</td>\n",
       "      <td>0</td>\n",
       "      <td>1</td>\n",
       "      <td>0</td>\n",
       "      <td>0</td>\n",
       "      <td>1</td>\n",
       "      <td>0</td>\n",
       "      <td>0</td>\n",
       "      <td>0</td>\n",
       "      <td>0</td>\n",
       "      <td>0</td>\n",
       "      <td>0</td>\n",
       "      <td>0</td>\n",
       "      <td>0</td>\n",
       "      <td>1</td>\n",
       "      <td>0</td>\n",
       "      <td>0</td>\n",
       "      <td>1</td>\n",
       "      <td>1</td>\n",
       "      <td>0</td>\n",
       "      <td>0</td>\n",
       "      <td>0</td>\n",
       "      <td>0</td>\n",
       "      <td>0</td>\n",
       "      <td>0</td>\n",
       "      <td>0</td>\n",
       "      <td>0</td>\n",
       "      <td>0</td>\n",
       "      <td>0</td>\n",
       "      <td>0</td>\n",
       "      <td>0</td>\n",
       "      <td>0</td>\n",
       "      <td>0</td>\n",
       "      <td>0</td>\n",
       "      <td>1</td>\n",
       "      <td>0</td>\n",
       "      <td>0</td>\n",
       "      <td>0</td>\n",
       "      <td>1</td>\n",
       "      <td>0</td>\n",
       "      <td>0</td>\n",
       "      <td>1</td>\n",
       "      <td>0</td>\n",
       "      <td>1</td>\n",
       "      <td>0</td>\n",
       "    </tr>\n",
       "    <tr>\n",
       "      <td>1</td>\n",
       "      <td>0</td>\n",
       "      <td>1</td>\n",
       "      <td>0</td>\n",
       "      <td>0</td>\n",
       "      <td>0</td>\n",
       "      <td>0</td>\n",
       "      <td>1</td>\n",
       "      <td>0</td>\n",
       "      <td>0</td>\n",
       "      <td>0</td>\n",
       "      <td>0</td>\n",
       "      <td>0</td>\n",
       "      <td>0</td>\n",
       "      <td>0</td>\n",
       "      <td>0</td>\n",
       "      <td>0</td>\n",
       "      <td>0</td>\n",
       "      <td>1</td>\n",
       "      <td>0</td>\n",
       "      <td>0</td>\n",
       "      <td>0</td>\n",
       "      <td>0</td>\n",
       "      <td>1</td>\n",
       "      <td>0</td>\n",
       "      <td>0</td>\n",
       "      <td>0</td>\n",
       "      <td>1</td>\n",
       "      <td>0</td>\n",
       "      <td>0</td>\n",
       "      <td>0</td>\n",
       "      <td>0</td>\n",
       "      <td>0</td>\n",
       "      <td>0</td>\n",
       "      <td>0</td>\n",
       "      <td>0</td>\n",
       "      <td>0</td>\n",
       "      <td>0</td>\n",
       "      <td>1</td>\n",
       "      <td>0</td>\n",
       "      <td>0</td>\n",
       "      <td>0</td>\n",
       "      <td>0</td>\n",
       "      <td>0</td>\n",
       "      <td>0</td>\n",
       "      <td>0</td>\n",
       "      <td>0</td>\n",
       "      <td>0</td>\n",
       "      <td>0</td>\n",
       "      <td>0</td>\n",
       "      <td>0</td>\n",
       "    </tr>\n",
       "    <tr>\n",
       "      <td>2</td>\n",
       "      <td>0</td>\n",
       "      <td>0</td>\n",
       "      <td>0</td>\n",
       "      <td>0</td>\n",
       "      <td>1</td>\n",
       "      <td>0</td>\n",
       "      <td>0</td>\n",
       "      <td>0</td>\n",
       "      <td>1</td>\n",
       "      <td>0</td>\n",
       "      <td>0</td>\n",
       "      <td>1</td>\n",
       "      <td>0</td>\n",
       "      <td>0</td>\n",
       "      <td>0</td>\n",
       "      <td>0</td>\n",
       "      <td>0</td>\n",
       "      <td>0</td>\n",
       "      <td>0</td>\n",
       "      <td>0</td>\n",
       "      <td>0</td>\n",
       "      <td>0</td>\n",
       "      <td>1</td>\n",
       "      <td>0</td>\n",
       "      <td>1</td>\n",
       "      <td>0</td>\n",
       "      <td>0</td>\n",
       "      <td>0</td>\n",
       "      <td>0</td>\n",
       "      <td>0</td>\n",
       "      <td>0</td>\n",
       "      <td>1</td>\n",
       "      <td>0</td>\n",
       "      <td>0</td>\n",
       "      <td>0</td>\n",
       "      <td>0</td>\n",
       "      <td>0</td>\n",
       "      <td>0</td>\n",
       "      <td>1</td>\n",
       "      <td>0</td>\n",
       "      <td>1</td>\n",
       "      <td>0</td>\n",
       "      <td>0</td>\n",
       "      <td>0</td>\n",
       "      <td>0</td>\n",
       "      <td>0</td>\n",
       "      <td>0</td>\n",
       "      <td>0</td>\n",
       "      <td>0</td>\n",
       "      <td>1</td>\n",
       "    </tr>\n",
       "    <tr>\n",
       "      <td>3</td>\n",
       "      <td>0</td>\n",
       "      <td>0</td>\n",
       "      <td>0</td>\n",
       "      <td>0</td>\n",
       "      <td>0</td>\n",
       "      <td>0</td>\n",
       "      <td>0</td>\n",
       "      <td>0</td>\n",
       "      <td>0</td>\n",
       "      <td>0</td>\n",
       "      <td>0</td>\n",
       "      <td>0</td>\n",
       "      <td>0</td>\n",
       "      <td>0</td>\n",
       "      <td>0</td>\n",
       "      <td>0</td>\n",
       "      <td>0</td>\n",
       "      <td>0</td>\n",
       "      <td>0</td>\n",
       "      <td>0</td>\n",
       "      <td>0</td>\n",
       "      <td>1</td>\n",
       "      <td>0</td>\n",
       "      <td>0</td>\n",
       "      <td>0</td>\n",
       "      <td>0</td>\n",
       "      <td>1</td>\n",
       "      <td>1</td>\n",
       "      <td>0</td>\n",
       "      <td>0</td>\n",
       "      <td>0</td>\n",
       "      <td>0</td>\n",
       "      <td>0</td>\n",
       "      <td>0</td>\n",
       "      <td>0</td>\n",
       "      <td>0</td>\n",
       "      <td>0</td>\n",
       "      <td>0</td>\n",
       "      <td>0</td>\n",
       "      <td>0</td>\n",
       "      <td>0</td>\n",
       "      <td>0</td>\n",
       "      <td>1</td>\n",
       "      <td>0</td>\n",
       "      <td>0</td>\n",
       "      <td>1</td>\n",
       "      <td>0</td>\n",
       "      <td>0</td>\n",
       "      <td>0</td>\n",
       "      <td>1</td>\n",
       "    </tr>\n",
       "    <tr>\n",
       "      <td>4</td>\n",
       "      <td>0</td>\n",
       "      <td>0</td>\n",
       "      <td>0</td>\n",
       "      <td>0</td>\n",
       "      <td>0</td>\n",
       "      <td>0</td>\n",
       "      <td>0</td>\n",
       "      <td>0</td>\n",
       "      <td>0</td>\n",
       "      <td>0</td>\n",
       "      <td>0</td>\n",
       "      <td>0</td>\n",
       "      <td>0</td>\n",
       "      <td>1</td>\n",
       "      <td>0</td>\n",
       "      <td>1</td>\n",
       "      <td>0</td>\n",
       "      <td>1</td>\n",
       "      <td>0</td>\n",
       "      <td>0</td>\n",
       "      <td>0</td>\n",
       "      <td>0</td>\n",
       "      <td>0</td>\n",
       "      <td>0</td>\n",
       "      <td>0</td>\n",
       "      <td>0</td>\n",
       "      <td>1</td>\n",
       "      <td>0</td>\n",
       "      <td>0</td>\n",
       "      <td>0</td>\n",
       "      <td>0</td>\n",
       "      <td>0</td>\n",
       "      <td>0</td>\n",
       "      <td>0</td>\n",
       "      <td>1</td>\n",
       "      <td>0</td>\n",
       "      <td>0</td>\n",
       "      <td>0</td>\n",
       "      <td>0</td>\n",
       "      <td>0</td>\n",
       "      <td>0</td>\n",
       "      <td>0</td>\n",
       "      <td>0</td>\n",
       "      <td>0</td>\n",
       "      <td>0</td>\n",
       "      <td>0</td>\n",
       "      <td>0</td>\n",
       "      <td>0</td>\n",
       "      <td>0</td>\n",
       "      <td>1</td>\n",
       "    </tr>\n",
       "    <tr>\n",
       "      <td>5</td>\n",
       "      <td>0</td>\n",
       "      <td>0</td>\n",
       "      <td>0</td>\n",
       "      <td>0</td>\n",
       "      <td>0</td>\n",
       "      <td>0</td>\n",
       "      <td>0</td>\n",
       "      <td>0</td>\n",
       "      <td>0</td>\n",
       "      <td>1</td>\n",
       "      <td>0</td>\n",
       "      <td>0</td>\n",
       "      <td>0</td>\n",
       "      <td>0</td>\n",
       "      <td>1</td>\n",
       "      <td>0</td>\n",
       "      <td>0</td>\n",
       "      <td>1</td>\n",
       "      <td>0</td>\n",
       "      <td>0</td>\n",
       "      <td>0</td>\n",
       "      <td>0</td>\n",
       "      <td>0</td>\n",
       "      <td>0</td>\n",
       "      <td>0</td>\n",
       "      <td>0</td>\n",
       "      <td>1</td>\n",
       "      <td>0</td>\n",
       "      <td>0</td>\n",
       "      <td>0</td>\n",
       "      <td>0</td>\n",
       "      <td>0</td>\n",
       "      <td>0</td>\n",
       "      <td>0</td>\n",
       "      <td>0</td>\n",
       "      <td>0</td>\n",
       "      <td>0</td>\n",
       "      <td>0</td>\n",
       "      <td>0</td>\n",
       "      <td>0</td>\n",
       "      <td>0</td>\n",
       "      <td>1</td>\n",
       "      <td>0</td>\n",
       "      <td>0</td>\n",
       "      <td>0</td>\n",
       "      <td>0</td>\n",
       "      <td>0</td>\n",
       "      <td>0</td>\n",
       "      <td>0</td>\n",
       "      <td>0</td>\n",
       "    </tr>\n",
       "    <tr>\n",
       "      <td>6</td>\n",
       "      <td>1</td>\n",
       "      <td>0</td>\n",
       "      <td>0</td>\n",
       "      <td>0</td>\n",
       "      <td>0</td>\n",
       "      <td>0</td>\n",
       "      <td>0</td>\n",
       "      <td>0</td>\n",
       "      <td>0</td>\n",
       "      <td>1</td>\n",
       "      <td>0</td>\n",
       "      <td>0</td>\n",
       "      <td>1</td>\n",
       "      <td>0</td>\n",
       "      <td>0</td>\n",
       "      <td>0</td>\n",
       "      <td>1</td>\n",
       "      <td>1</td>\n",
       "      <td>0</td>\n",
       "      <td>0</td>\n",
       "      <td>0</td>\n",
       "      <td>0</td>\n",
       "      <td>0</td>\n",
       "      <td>0</td>\n",
       "      <td>0</td>\n",
       "      <td>0</td>\n",
       "      <td>1</td>\n",
       "      <td>0</td>\n",
       "      <td>0</td>\n",
       "      <td>0</td>\n",
       "      <td>0</td>\n",
       "      <td>0</td>\n",
       "      <td>1</td>\n",
       "      <td>0</td>\n",
       "      <td>0</td>\n",
       "      <td>0</td>\n",
       "      <td>1</td>\n",
       "      <td>0</td>\n",
       "      <td>0</td>\n",
       "      <td>0</td>\n",
       "      <td>0</td>\n",
       "      <td>0</td>\n",
       "      <td>0</td>\n",
       "      <td>0</td>\n",
       "      <td>0</td>\n",
       "      <td>0</td>\n",
       "      <td>0</td>\n",
       "      <td>0</td>\n",
       "      <td>0</td>\n",
       "      <td>0</td>\n",
       "    </tr>\n",
       "    <tr>\n",
       "      <td>7</td>\n",
       "      <td>0</td>\n",
       "      <td>0</td>\n",
       "      <td>1</td>\n",
       "      <td>0</td>\n",
       "      <td>0</td>\n",
       "      <td>0</td>\n",
       "      <td>0</td>\n",
       "      <td>0</td>\n",
       "      <td>0</td>\n",
       "      <td>0</td>\n",
       "      <td>0</td>\n",
       "      <td>0</td>\n",
       "      <td>0</td>\n",
       "      <td>0</td>\n",
       "      <td>0</td>\n",
       "      <td>0</td>\n",
       "      <td>0</td>\n",
       "      <td>0</td>\n",
       "      <td>1</td>\n",
       "      <td>0</td>\n",
       "      <td>2</td>\n",
       "      <td>0</td>\n",
       "      <td>1</td>\n",
       "      <td>0</td>\n",
       "      <td>0</td>\n",
       "      <td>1</td>\n",
       "      <td>0</td>\n",
       "      <td>1</td>\n",
       "      <td>1</td>\n",
       "      <td>1</td>\n",
       "      <td>1</td>\n",
       "      <td>0</td>\n",
       "      <td>0</td>\n",
       "      <td>1</td>\n",
       "      <td>0</td>\n",
       "      <td>1</td>\n",
       "      <td>0</td>\n",
       "      <td>0</td>\n",
       "      <td>0</td>\n",
       "      <td>0</td>\n",
       "      <td>0</td>\n",
       "      <td>0</td>\n",
       "      <td>0</td>\n",
       "      <td>0</td>\n",
       "      <td>1</td>\n",
       "      <td>0</td>\n",
       "      <td>0</td>\n",
       "      <td>1</td>\n",
       "      <td>0</td>\n",
       "      <td>1</td>\n",
       "    </tr>\n",
       "  </tbody>\n",
       "</table>\n",
       "</div>"
      ],
      "text/plain": [
       "   150  bite  bites  borne  cases  cause  commonly  continental  continues  \\\n",
       "0  0    0     0      1      0      1      0         1            0           \n",
       "1  0    1     0      0      0      0      1         0            0           \n",
       "2  0    0     0      0      1      0      0         0            1           \n",
       "3  0    0     0      0      0      0      0         0            0           \n",
       "4  0    0     0      0      0      0      0         0            0           \n",
       "5  0    0     0      0      0      0      0         0            0           \n",
       "6  1    0     0      0      0      0      0         0            0           \n",
       "7  0    0     1      0      0      0      0         0            0           \n",
       "\n",
       "   develop  disease  fall  fatal  feel  fever  fortunately  illness  infected  \\\n",
       "0  0        1        0     0      0     0      0            0        0          \n",
       "1  0        0        0     0      0     0      0            0        1          \n",
       "2  0        0        1     0      0     0      0            0        0          \n",
       "3  0        0        0     0      0     0      0            0        0          \n",
       "4  0        0        0     0      1     0      1            0        1          \n",
       "5  1        0        0     0      0     1      0            0        1          \n",
       "6  1        0        0     1      0     0      0            1        1          \n",
       "7  0        0        0     0      0     0      0            0        0          \n",
       "\n",
       "   insect  leading  long  medications  mosquito  nile  occur  pants  people  \\\n",
       "0  0       1        0     0            1         1     0      0      0        \n",
       "1  0       0        0     0            1         0     0      0      1        \n",
       "2  0       0        0     0            1         0     1      0      0        \n",
       "3  0       0        0     1            0         0     0      0      1        \n",
       "4  0       0        0     0            0         0     0      0      1        \n",
       "5  0       0        0     0            0         0     0      0      1        \n",
       "6  0       0        0     0            0         0     0      0      1        \n",
       "7  1       0        2     0            1         0     0      1      0        \n",
       "\n",
       "   prevent  reduce  repellent  risk  season  serious  shirts  sick  sleeved  \\\n",
       "0  0        0       0          0     0       0        0       0     0         \n",
       "1  0        0       0          0     0       0        0       0     0         \n",
       "2  0        0       0          0     1       0        0       0     0         \n",
       "3  1        0       0          0     0       0        0       0     0         \n",
       "4  0        0       0          0     0       0        0       1     0         \n",
       "5  0        0       0          0     0       0        0       0     0         \n",
       "6  0        0       0          0     0       1        0       0     0         \n",
       "7  1        1       1          1     0       0        1       0     1         \n",
       "\n",
       "   sometimes  spread  starts  states  summer  symptoms  treat  united  using  \\\n",
       "0  0          0       0       1       0       0         0      1       0       \n",
       "1  0          1       0       0       0       0         0      0       0       \n",
       "2  0          0       1       0       1       0         0      0       0       \n",
       "3  0          0       0       0       0       0         1      0       0       \n",
       "4  0          0       0       0       0       0         0      0       0       \n",
       "5  0          0       0       0       0       1         0      0       0       \n",
       "6  1          0       0       0       0       0         0      0       0       \n",
       "7  0          0       0       0       0       0         0      0       1       \n",
       "\n",
       "   vaccines  virus  wearing  west  wnv  \n",
       "0  0         1      0        1     0    \n",
       "1  0         0      0        0     0    \n",
       "2  0         0      0        0     1    \n",
       "3  1         0      0        0     1    \n",
       "4  0         0      0        0     1    \n",
       "5  0         0      0        0     0    \n",
       "6  0         0      0        0     0    \n",
       "7  0         0      1        0     1    "
      ]
     },
     "execution_count": 275,
     "metadata": {},
     "output_type": "execute_result"
    }
   ],
   "source": [
    "df_cvec"
   ]
  },
  {
   "cell_type": "code",
   "execution_count": 276,
   "metadata": {},
   "outputs": [
    {
     "name": "stdout",
     "output_type": "stream",
     "text": [
      "50\n"
     ]
    },
    {
     "data": {
      "text/plain": [
       "<matplotlib.axes._subplots.AxesSubplot at 0x1a646d72e8>"
      ]
     },
     "execution_count": 276,
     "metadata": {},
     "output_type": "execute_result"
    },
    {
     "data": {
      "image/png": "[encoded data removed]",
      "text/plain": [
       "<Figure size 432x432 with 1 Axes>"
      ]
     },
     "metadata": {
      "needs_background": "light"
     },
     "output_type": "display_data"
    }
   ],
   "source": [
    "# Which words appear the most?\n",
    "plt.figure(figsize=(6,6))\n",
    "\n",
    "word_counts = df_cvec.sum(axis=0)\n",
    "print(len(word_counts))\n",
    "word_counts.sort_values(ascending = False).head(15).plot(kind='barh',title='top common words (CountVectorizer)')"
   ]
  },
  {
   "cell_type": "code",
   "execution_count": 277,
   "metadata": {},
   "outputs": [
    {
     "data": {
      "text/plain": [
       "(8, 50)"
      ]
     },
     "execution_count": 277,
     "metadata": {},
     "output_type": "execute_result"
    }
   ],
   "source": [
    "# Apply TFIDF\n",
    "transformer = TfidfTransformer(norm=None, sublinear_tf=False, smooth_idf=False)\n",
    "tfidf = transformer.fit_transform(bag_of_words)\n",
    "tfidf = tfidf.toarray()\n",
    "tfidf.shape"
   ]
  },
  {
   "cell_type": "code",
   "execution_count": 278,
   "metadata": {},
   "outputs": [],
   "source": [
    "# Create a dataframe to store our sentence vectors\n",
    "df_tvec = pd.DataFrame(tfidf, columns=cvec.get_feature_names())"
   ]
  },
  {
   "cell_type": "code",
   "execution_count": 279,
   "metadata": {},
   "outputs": [
    {
     "name": "stdout",
     "output_type": "stream",
     "text": [
      "50\n"
     ]
    },
    {
     "data": {
      "text/plain": [
       "<matplotlib.axes._subplots.AxesSubplot at 0x1077f7cf8>"
      ]
     },
     "execution_count": 279,
     "metadata": {},
     "output_type": "execute_result"
    },
    {
     "data": {
      "image/png": "[encoded data removed]",
      "text/plain": [
       "<Figure size 432x432 with 1 Axes>"
      ]
     },
     "metadata": {
      "needs_background": "light"
     },
     "output_type": "display_data"
    }
   ],
   "source": [
    "# Which words appear the most (TFIDF)?\n",
    "plt.figure(figsize=(6,6))\n",
    "word_counts = df_tvec.sum(axis=0)\n",
    "print(len(word_counts))\n",
    "word_counts.sort_values(ascending = False).head(15).plot(kind='barh',title='top common words (TF-IDF)')"
   ]
  },
  {
   "cell_type": "markdown",
   "metadata": {},
   "source": [
    "### Find Document Centroid Vector"
   ]
  },
  {
   "cell_type": "markdown",
   "metadata": {},
   "source": [
    "In this steps, we will use TF-IDF to get the important word vectors of the document. For word vector that has values less than topic threshold (0.3, meaning low importance words), we will set the vector value to 0."
   ]
  },
  {
   "cell_type": "code",
   "execution_count": 280,
   "metadata": {},
   "outputs": [],
   "source": [
    "topic_threshold=0.3\n",
    "sim_threshold=0.95\n",
    "\n",
    "centroid_vector = tfidf.sum(axis = 0)   #sum all rows for each word"
   ]
  },
  {
   "cell_type": "code",
   "execution_count": 281,
   "metadata": {},
   "outputs": [
    {
     "data": {
      "text/plain": [
       "(50,)"
      ]
     },
     "execution_count": 281,
     "metadata": {},
     "output_type": "execute_result"
    }
   ],
   "source": [
    "centroid_vector.shape"
   ]
  },
  {
   "cell_type": "code",
   "execution_count": 282,
   "metadata": {},
   "outputs": [
    {
     "data": {
      "text/html": [
       "<div>\n",
       "<style scoped>\n",
       "    .dataframe tbody tr th:only-of-type {\n",
       "        vertical-align: middle;\n",
       "    }\n",
       "\n",
       "    .dataframe tbody tr th {\n",
       "        vertical-align: top;\n",
       "    }\n",
       "\n",
       "    .dataframe thead th {\n",
       "        text-align: right;\n",
       "    }\n",
       "</style>\n",
       "<table border=\"1\" class=\"dataframe\">\n",
       "  <thead>\n",
       "    <tr style=\"text-align: right;\">\n",
       "      <th></th>\n",
       "      <th>0</th>\n",
       "      <th>1</th>\n",
       "      <th>2</th>\n",
       "      <th>3</th>\n",
       "      <th>4</th>\n",
       "      <th>5</th>\n",
       "      <th>6</th>\n",
       "      <th>7</th>\n",
       "      <th>8</th>\n",
       "      <th>9</th>\n",
       "      <th>10</th>\n",
       "      <th>11</th>\n",
       "      <th>12</th>\n",
       "      <th>13</th>\n",
       "      <th>14</th>\n",
       "      <th>15</th>\n",
       "      <th>16</th>\n",
       "      <th>17</th>\n",
       "      <th>18</th>\n",
       "      <th>19</th>\n",
       "      <th>20</th>\n",
       "      <th>21</th>\n",
       "      <th>22</th>\n",
       "      <th>23</th>\n",
       "      <th>24</th>\n",
       "      <th>25</th>\n",
       "      <th>26</th>\n",
       "      <th>27</th>\n",
       "      <th>28</th>\n",
       "      <th>29</th>\n",
       "      <th>30</th>\n",
       "      <th>31</th>\n",
       "      <th>32</th>\n",
       "      <th>33</th>\n",
       "      <th>34</th>\n",
       "      <th>35</th>\n",
       "      <th>36</th>\n",
       "      <th>37</th>\n",
       "      <th>38</th>\n",
       "      <th>39</th>\n",
       "      <th>40</th>\n",
       "      <th>41</th>\n",
       "      <th>42</th>\n",
       "      <th>43</th>\n",
       "      <th>44</th>\n",
       "      <th>45</th>\n",
       "      <th>46</th>\n",
       "      <th>47</th>\n",
       "      <th>48</th>\n",
       "      <th>49</th>\n",
       "    </tr>\n",
       "  </thead>\n",
       "  <tbody>\n",
       "    <tr>\n",
       "      <td>0</td>\n",
       "      <td>3.079442</td>\n",
       "      <td>3.079442</td>\n",
       "      <td>3.079442</td>\n",
       "      <td>3.079442</td>\n",
       "      <td>3.079442</td>\n",
       "      <td>3.079442</td>\n",
       "      <td>3.079442</td>\n",
       "      <td>3.079442</td>\n",
       "      <td>3.079442</td>\n",
       "      <td>4.772589</td>\n",
       "      <td>3.079442</td>\n",
       "      <td>3.079442</td>\n",
       "      <td>3.079442</td>\n",
       "      <td>3.079442</td>\n",
       "      <td>3.079442</td>\n",
       "      <td>3.079442</td>\n",
       "      <td>3.079442</td>\n",
       "      <td>6.772589</td>\n",
       "      <td>3.079442</td>\n",
       "      <td>3.079442</td>\n",
       "      <td>6.158883</td>\n",
       "      <td>3.079442</td>\n",
       "      <td>6.772589</td>\n",
       "      <td>3.079442</td>\n",
       "      <td>3.079442</td>\n",
       "      <td>3.079442</td>\n",
       "      <td>7.350018</td>\n",
       "      <td>4.772589</td>\n",
       "      <td>3.079442</td>\n",
       "      <td>3.079442</td>\n",
       "      <td>3.079442</td>\n",
       "      <td>3.079442</td>\n",
       "      <td>3.079442</td>\n",
       "      <td>3.079442</td>\n",
       "      <td>3.079442</td>\n",
       "      <td>3.079442</td>\n",
       "      <td>3.079442</td>\n",
       "      <td>3.079442</td>\n",
       "      <td>3.079442</td>\n",
       "      <td>3.079442</td>\n",
       "      <td>3.079442</td>\n",
       "      <td>3.079442</td>\n",
       "      <td>3.079442</td>\n",
       "      <td>3.079442</td>\n",
       "      <td>3.079442</td>\n",
       "      <td>3.079442</td>\n",
       "      <td>3.079442</td>\n",
       "      <td>3.079442</td>\n",
       "      <td>3.079442</td>\n",
       "      <td>6.772589</td>\n",
       "    </tr>\n",
       "  </tbody>\n",
       "</table>\n",
       "</div>"
      ],
      "text/plain": [
       "          0         1         2         3         4         5         6  \\\n",
       "0  3.079442  3.079442  3.079442  3.079442  3.079442  3.079442  3.079442   \n",
       "\n",
       "          7         8         9        10        11        12        13  \\\n",
       "0  3.079442  3.079442  4.772589  3.079442  3.079442  3.079442  3.079442   \n",
       "\n",
       "         14        15        16        17        18        19        20  \\\n",
       "0  3.079442  3.079442  3.079442  6.772589  3.079442  3.079442  6.158883   \n",
       "\n",
       "         21        22        23        24        25        26        27  \\\n",
       "0  3.079442  6.772589  3.079442  3.079442  3.079442  7.350018  4.772589   \n",
       "\n",
       "         28        29        30        31        32        33        34  \\\n",
       "0  3.079442  3.079442  3.079442  3.079442  3.079442  3.079442  3.079442   \n",
       "\n",
       "         35        36        37        38        39        40        41  \\\n",
       "0  3.079442  3.079442  3.079442  3.079442  3.079442  3.079442  3.079442   \n",
       "\n",
       "         42        43        44        45        46        47        48  \\\n",
       "0  3.079442  3.079442  3.079442  3.079442  3.079442  3.079442  3.079442   \n",
       "\n",
       "         49  \n",
       "0  6.772589  "
      ]
     },
     "execution_count": 282,
     "metadata": {},
     "output_type": "execute_result"
    }
   ],
   "source": [
    "pd.DataFrame(centroid_vector).T"
   ]
  },
  {
   "cell_type": "code",
   "execution_count": 283,
   "metadata": {},
   "outputs": [
    {
     "data": {
      "text/plain": [
       "7.350018146228678"
      ]
     },
     "execution_count": 283,
     "metadata": {},
     "output_type": "execute_result"
    }
   ],
   "source": [
    "centroid_vector.max()  # most important word \"people\""
   ]
  },
  {
   "cell_type": "code",
   "execution_count": 284,
   "metadata": {},
   "outputs": [
    {
     "data": {
      "text/html": [
       "<div>\n",
       "<style scoped>\n",
       "    .dataframe tbody tr th:only-of-type {\n",
       "        vertical-align: middle;\n",
       "    }\n",
       "\n",
       "    .dataframe tbody tr th {\n",
       "        vertical-align: top;\n",
       "    }\n",
       "\n",
       "    .dataframe thead th {\n",
       "        text-align: right;\n",
       "    }\n",
       "</style>\n",
       "<table border=\"1\" class=\"dataframe\">\n",
       "  <thead>\n",
       "    <tr style=\"text-align: right;\">\n",
       "      <th></th>\n",
       "      <th>0</th>\n",
       "      <th>1</th>\n",
       "      <th>2</th>\n",
       "      <th>3</th>\n",
       "      <th>4</th>\n",
       "      <th>5</th>\n",
       "      <th>6</th>\n",
       "      <th>7</th>\n",
       "      <th>8</th>\n",
       "      <th>9</th>\n",
       "      <th>10</th>\n",
       "      <th>11</th>\n",
       "      <th>12</th>\n",
       "      <th>13</th>\n",
       "      <th>14</th>\n",
       "      <th>15</th>\n",
       "      <th>16</th>\n",
       "      <th>17</th>\n",
       "      <th>18</th>\n",
       "      <th>19</th>\n",
       "      <th>20</th>\n",
       "      <th>21</th>\n",
       "      <th>22</th>\n",
       "      <th>23</th>\n",
       "      <th>24</th>\n",
       "      <th>25</th>\n",
       "      <th>26</th>\n",
       "      <th>27</th>\n",
       "      <th>28</th>\n",
       "      <th>29</th>\n",
       "      <th>30</th>\n",
       "      <th>31</th>\n",
       "      <th>32</th>\n",
       "      <th>33</th>\n",
       "      <th>34</th>\n",
       "      <th>35</th>\n",
       "      <th>36</th>\n",
       "      <th>37</th>\n",
       "      <th>38</th>\n",
       "      <th>39</th>\n",
       "      <th>40</th>\n",
       "      <th>41</th>\n",
       "      <th>42</th>\n",
       "      <th>43</th>\n",
       "      <th>44</th>\n",
       "      <th>45</th>\n",
       "      <th>46</th>\n",
       "      <th>47</th>\n",
       "      <th>48</th>\n",
       "      <th>49</th>\n",
       "    </tr>\n",
       "  </thead>\n",
       "  <tbody>\n",
       "    <tr>\n",
       "      <td>0</td>\n",
       "      <td>0.418971</td>\n",
       "      <td>0.418971</td>\n",
       "      <td>0.418971</td>\n",
       "      <td>0.418971</td>\n",
       "      <td>0.418971</td>\n",
       "      <td>0.418971</td>\n",
       "      <td>0.418971</td>\n",
       "      <td>0.418971</td>\n",
       "      <td>0.418971</td>\n",
       "      <td>0.64933</td>\n",
       "      <td>0.418971</td>\n",
       "      <td>0.418971</td>\n",
       "      <td>0.418971</td>\n",
       "      <td>0.418971</td>\n",
       "      <td>0.418971</td>\n",
       "      <td>0.418971</td>\n",
       "      <td>0.418971</td>\n",
       "      <td>0.921438</td>\n",
       "      <td>0.418971</td>\n",
       "      <td>0.418971</td>\n",
       "      <td>0.837941</td>\n",
       "      <td>0.418971</td>\n",
       "      <td>0.921438</td>\n",
       "      <td>0.418971</td>\n",
       "      <td>0.418971</td>\n",
       "      <td>0.418971</td>\n",
       "      <td>1.0</td>\n",
       "      <td>0.64933</td>\n",
       "      <td>0.418971</td>\n",
       "      <td>0.418971</td>\n",
       "      <td>0.418971</td>\n",
       "      <td>0.418971</td>\n",
       "      <td>0.418971</td>\n",
       "      <td>0.418971</td>\n",
       "      <td>0.418971</td>\n",
       "      <td>0.418971</td>\n",
       "      <td>0.418971</td>\n",
       "      <td>0.418971</td>\n",
       "      <td>0.418971</td>\n",
       "      <td>0.418971</td>\n",
       "      <td>0.418971</td>\n",
       "      <td>0.418971</td>\n",
       "      <td>0.418971</td>\n",
       "      <td>0.418971</td>\n",
       "      <td>0.418971</td>\n",
       "      <td>0.418971</td>\n",
       "      <td>0.418971</td>\n",
       "      <td>0.418971</td>\n",
       "      <td>0.418971</td>\n",
       "      <td>0.921438</td>\n",
       "    </tr>\n",
       "  </tbody>\n",
       "</table>\n",
       "</div>"
      ],
      "text/plain": [
       "          0         1         2         3         4         5         6  \\\n",
       "0  0.418971  0.418971  0.418971  0.418971  0.418971  0.418971  0.418971   \n",
       "\n",
       "          7         8        9        10        11        12        13  \\\n",
       "0  0.418971  0.418971  0.64933  0.418971  0.418971  0.418971  0.418971   \n",
       "\n",
       "         14        15        16        17        18        19        20  \\\n",
       "0  0.418971  0.418971  0.418971  0.921438  0.418971  0.418971  0.837941   \n",
       "\n",
       "         21        22        23        24        25   26       27        28  \\\n",
       "0  0.418971  0.921438  0.418971  0.418971  0.418971  1.0  0.64933  0.418971   \n",
       "\n",
       "         29        30        31        32        33        34        35  \\\n",
       "0  0.418971  0.418971  0.418971  0.418971  0.418971  0.418971  0.418971   \n",
       "\n",
       "         36        37        38        39        40        41        42  \\\n",
       "0  0.418971  0.418971  0.418971  0.418971  0.418971  0.418971  0.418971   \n",
       "\n",
       "         43        44        45        46        47        48        49  \n",
       "0  0.418971  0.418971  0.418971  0.418971  0.418971  0.418971  0.921438  "
      ]
     },
     "execution_count": 284,
     "metadata": {},
     "output_type": "execute_result"
    }
   ],
   "source": [
    "centroid_vector = np.divide(centroid_vector, centroid_vector.max())   #normalize it\n",
    "pd.DataFrame(centroid_vector).T"
   ]
  },
  {
   "cell_type": "code",
   "execution_count": 285,
   "metadata": {},
   "outputs": [],
   "source": [
    "# remove low importance word\n",
    "for i in range(centroid_vector.shape[0]):\n",
    "    if centroid_vector[i] <= topic_threshold:    \n",
    "        centroid_vector[i] = 0"
   ]
  },
  {
   "cell_type": "code",
   "execution_count": 286,
   "metadata": {},
   "outputs": [
    {
     "data": {
      "text/html": [
       "<div>\n",
       "<style scoped>\n",
       "    .dataframe tbody tr th:only-of-type {\n",
       "        vertical-align: middle;\n",
       "    }\n",
       "\n",
       "    .dataframe tbody tr th {\n",
       "        vertical-align: top;\n",
       "    }\n",
       "\n",
       "    .dataframe thead th {\n",
       "        text-align: right;\n",
       "    }\n",
       "</style>\n",
       "<table border=\"1\" class=\"dataframe\">\n",
       "  <thead>\n",
       "    <tr style=\"text-align: right;\">\n",
       "      <th></th>\n",
       "      <th>0</th>\n",
       "      <th>1</th>\n",
       "      <th>2</th>\n",
       "      <th>3</th>\n",
       "      <th>4</th>\n",
       "      <th>5</th>\n",
       "      <th>6</th>\n",
       "      <th>7</th>\n",
       "      <th>8</th>\n",
       "      <th>9</th>\n",
       "      <th>10</th>\n",
       "      <th>11</th>\n",
       "      <th>12</th>\n",
       "      <th>13</th>\n",
       "      <th>14</th>\n",
       "      <th>15</th>\n",
       "      <th>16</th>\n",
       "      <th>17</th>\n",
       "      <th>18</th>\n",
       "      <th>19</th>\n",
       "      <th>20</th>\n",
       "      <th>21</th>\n",
       "      <th>22</th>\n",
       "      <th>23</th>\n",
       "      <th>24</th>\n",
       "      <th>25</th>\n",
       "      <th>26</th>\n",
       "      <th>27</th>\n",
       "      <th>28</th>\n",
       "      <th>29</th>\n",
       "      <th>30</th>\n",
       "      <th>31</th>\n",
       "      <th>32</th>\n",
       "      <th>33</th>\n",
       "      <th>34</th>\n",
       "      <th>35</th>\n",
       "      <th>36</th>\n",
       "      <th>37</th>\n",
       "      <th>38</th>\n",
       "      <th>39</th>\n",
       "      <th>40</th>\n",
       "      <th>41</th>\n",
       "      <th>42</th>\n",
       "      <th>43</th>\n",
       "      <th>44</th>\n",
       "      <th>45</th>\n",
       "      <th>46</th>\n",
       "      <th>47</th>\n",
       "      <th>48</th>\n",
       "      <th>49</th>\n",
       "    </tr>\n",
       "  </thead>\n",
       "  <tbody>\n",
       "    <tr>\n",
       "      <td>0</td>\n",
       "      <td>0.418971</td>\n",
       "      <td>0.418971</td>\n",
       "      <td>0.418971</td>\n",
       "      <td>0.418971</td>\n",
       "      <td>0.418971</td>\n",
       "      <td>0.418971</td>\n",
       "      <td>0.418971</td>\n",
       "      <td>0.418971</td>\n",
       "      <td>0.418971</td>\n",
       "      <td>0.64933</td>\n",
       "      <td>0.418971</td>\n",
       "      <td>0.418971</td>\n",
       "      <td>0.418971</td>\n",
       "      <td>0.418971</td>\n",
       "      <td>0.418971</td>\n",
       "      <td>0.418971</td>\n",
       "      <td>0.418971</td>\n",
       "      <td>0.921438</td>\n",
       "      <td>0.418971</td>\n",
       "      <td>0.418971</td>\n",
       "      <td>0.837941</td>\n",
       "      <td>0.418971</td>\n",
       "      <td>0.921438</td>\n",
       "      <td>0.418971</td>\n",
       "      <td>0.418971</td>\n",
       "      <td>0.418971</td>\n",
       "      <td>1.0</td>\n",
       "      <td>0.64933</td>\n",
       "      <td>0.418971</td>\n",
       "      <td>0.418971</td>\n",
       "      <td>0.418971</td>\n",
       "      <td>0.418971</td>\n",
       "      <td>0.418971</td>\n",
       "      <td>0.418971</td>\n",
       "      <td>0.418971</td>\n",
       "      <td>0.418971</td>\n",
       "      <td>0.418971</td>\n",
       "      <td>0.418971</td>\n",
       "      <td>0.418971</td>\n",
       "      <td>0.418971</td>\n",
       "      <td>0.418971</td>\n",
       "      <td>0.418971</td>\n",
       "      <td>0.418971</td>\n",
       "      <td>0.418971</td>\n",
       "      <td>0.418971</td>\n",
       "      <td>0.418971</td>\n",
       "      <td>0.418971</td>\n",
       "      <td>0.418971</td>\n",
       "      <td>0.418971</td>\n",
       "      <td>0.921438</td>\n",
       "    </tr>\n",
       "  </tbody>\n",
       "</table>\n",
       "</div>"
      ],
      "text/plain": [
       "          0         1         2         3         4         5         6  \\\n",
       "0  0.418971  0.418971  0.418971  0.418971  0.418971  0.418971  0.418971   \n",
       "\n",
       "          7         8        9        10        11        12        13  \\\n",
       "0  0.418971  0.418971  0.64933  0.418971  0.418971  0.418971  0.418971   \n",
       "\n",
       "         14        15        16        17        18        19        20  \\\n",
       "0  0.418971  0.418971  0.418971  0.921438  0.418971  0.418971  0.837941   \n",
       "\n",
       "         21        22        23        24        25   26       27        28  \\\n",
       "0  0.418971  0.921438  0.418971  0.418971  0.418971  1.0  0.64933  0.418971   \n",
       "\n",
       "         29        30        31        32        33        34        35  \\\n",
       "0  0.418971  0.418971  0.418971  0.418971  0.418971  0.418971  0.418971   \n",
       "\n",
       "         36        37        38        39        40        41        42  \\\n",
       "0  0.418971  0.418971  0.418971  0.418971  0.418971  0.418971  0.418971   \n",
       "\n",
       "         43        44        45        46        47        48        49  \n",
       "0  0.418971  0.418971  0.418971  0.418971  0.418971  0.418971  0.921438  "
      ]
     },
     "execution_count": 286,
     "metadata": {},
     "output_type": "execute_result"
    }
   ],
   "source": [
    "pd.DataFrame(centroid_vector).T"
   ]
  },
  {
   "cell_type": "code",
   "execution_count": 287,
   "metadata": {},
   "outputs": [
    {
     "data": {
      "text/plain": [
       "array([0.        , 0.        , 0.        , 3.07944154, 0.        ,\n",
       "       3.07944154, 0.        , 3.07944154, 0.        , 0.        ,\n",
       "       3.07944154, 0.        , 0.        , 0.        , 0.        ,\n",
       "       0.        , 0.        , 0.        , 0.        , 3.07944154,\n",
       "       0.        , 0.        , 1.69314718, 3.07944154, 0.        ,\n",
       "       0.        , 0.        , 0.        , 0.        , 0.        ,\n",
       "       0.        , 0.        , 0.        , 0.        , 0.        ,\n",
       "       0.        , 0.        , 0.        , 0.        , 3.07944154,\n",
       "       0.        , 0.        , 0.        , 3.07944154, 0.        ,\n",
       "       0.        , 3.07944154, 0.        , 3.07944154, 0.        ])"
      ]
     },
     "execution_count": 287,
     "metadata": {},
     "output_type": "execute_result"
    }
   ],
   "source": [
    "tfidf[0]"
   ]
  },
  {
   "cell_type": "markdown",
   "metadata": {},
   "source": [
    "### Sentence Scoring"
   ]
  },
  {
   "cell_type": "markdown",
   "metadata": {},
   "source": [
    "For this step, we will score each sentence against the document centroid vector (key words). Sentences that contains these keywords will have higher scores."
   ]
  },
  {
   "cell_type": "code",
   "execution_count": 288,
   "metadata": {},
   "outputs": [],
   "source": [
    "sentences_scores = []\n",
    "for i in range(tfidf.shape[0]):\n",
    "    score = similarity(tfidf[i, :], centroid_vector)\n",
    "    sentences_scores.append((i, sentences[i], score, tfidf[i, :]))\n",
    "\n",
    "sentences_scores_sort = sorted(sentences_scores, key=lambda el: el[2], reverse=True)"
   ]
  },
  {
   "cell_type": "code",
   "execution_count": 289,
   "metadata": {},
   "outputs": [
    {
     "data": {
      "text/html": [
       "<div>\n",
       "<style scoped>\n",
       "    .dataframe tbody tr th:only-of-type {\n",
       "        vertical-align: middle;\n",
       "    }\n",
       "\n",
       "    .dataframe tbody tr th {\n",
       "        vertical-align: top;\n",
       "    }\n",
       "\n",
       "    .dataframe thead th {\n",
       "        text-align: right;\n",
       "    }\n",
       "</style>\n",
       "<table border=\"1\" class=\"dataframe\">\n",
       "  <thead>\n",
       "    <tr style=\"text-align: right;\">\n",
       "      <th></th>\n",
       "      <th>id</th>\n",
       "      <th>text</th>\n",
       "      <th>score</th>\n",
       "    </tr>\n",
       "  </thead>\n",
       "  <tbody>\n",
       "    <tr>\n",
       "      <td>0</td>\n",
       "      <td>7</td>\n",
       "      <td>You can reduce your risk of WNV by using insect repellent and wearing long-sleeved shirts and long pants to prevent mosquito bites.</td>\n",
       "      <td>0.766236</td>\n",
       "    </tr>\n",
       "    <tr>\n",
       "      <td>1</td>\n",
       "      <td>0</td>\n",
       "      <td>West Nile virus (WNV) is the leading cause of mosquito-borne disease in the continental United States.</td>\n",
       "      <td>0.705768</td>\n",
       "    </tr>\n",
       "    <tr>\n",
       "      <td>2</td>\n",
       "      <td>6</td>\n",
       "      <td>About 1 out of 150 infected people develop a serious, sometimes fatal, illness.</td>\n",
       "      <td>0.703451</td>\n",
       "    </tr>\n",
       "    <tr>\n",
       "      <td>3</td>\n",
       "      <td>2</td>\n",
       "      <td>Cases of WNV occur during mosquito season, which starts in the summer and continues through fall.</td>\n",
       "      <td>0.701238</td>\n",
       "    </tr>\n",
       "    <tr>\n",
       "      <td>4</td>\n",
       "      <td>1</td>\n",
       "      <td>It is most commonly spread to people by the bite of an infected mosquito.</td>\n",
       "      <td>0.697373</td>\n",
       "    </tr>\n",
       "    <tr>\n",
       "      <td>5</td>\n",
       "      <td>4</td>\n",
       "      <td>Fortunately, most people infected with WNV do not feel sick.</td>\n",
       "      <td>0.697373</td>\n",
       "    </tr>\n",
       "    <tr>\n",
       "      <td>6</td>\n",
       "      <td>3</td>\n",
       "      <td>There are no vaccines to prevent or medications to treat WNV in people.</td>\n",
       "      <td>0.689877</td>\n",
       "    </tr>\n",
       "    <tr>\n",
       "      <td>7</td>\n",
       "      <td>5</td>\n",
       "      <td>About 1 in 5 people who are infected develop a fever and other symptoms.</td>\n",
       "      <td>0.684803</td>\n",
       "    </tr>\n",
       "  </tbody>\n",
       "</table>\n",
       "</div>"
      ],
      "text/plain": [
       "   id  \\\n",
       "0  7    \n",
       "1  0    \n",
       "2  6    \n",
       "3  2    \n",
       "4  1    \n",
       "5  4    \n",
       "6  3    \n",
       "7  5    \n",
       "\n",
       "                                                                                                                                  text  \\\n",
       "0  You can reduce your risk of WNV by using insect repellent and wearing long-sleeved shirts and long pants to prevent mosquito bites.   \n",
       "1  West Nile virus (WNV) is the leading cause of mosquito-borne disease in the continental United States.                                \n",
       "2  About 1 out of 150 infected people develop a serious, sometimes fatal, illness.                                                       \n",
       "3  Cases of WNV occur during mosquito season, which starts in the summer and continues through fall.                                     \n",
       "4  It is most commonly spread to people by the bite of an infected mosquito.                                                             \n",
       "5  Fortunately, most people infected with WNV do not feel sick.                                                                          \n",
       "6  There are no vaccines to prevent or medications to treat WNV in people.                                                               \n",
       "7  About 1 in 5 people who are infected develop a fever and other symptoms.                                                              \n",
       "\n",
       "      score  \n",
       "0  0.766236  \n",
       "1  0.705768  \n",
       "2  0.703451  \n",
       "3  0.701238  \n",
       "4  0.697373  \n",
       "5  0.697373  \n",
       "6  0.689877  \n",
       "7  0.684803  "
      ]
     },
     "execution_count": 289,
     "metadata": {},
     "output_type": "execute_result"
    }
   ],
   "source": [
    "pd.DataFrame([sentences_scores_sort[s][0:3] for s in range(8)],columns=['id','text','score'])"
   ]
  },
  {
   "cell_type": "markdown",
   "metadata": {},
   "source": [
    "### Sentence Ranking & Selection"
   ]
  },
  {
   "cell_type": "markdown",
   "metadata": {},
   "source": [
    "For this step, we will extract top sentences based on the score and at the sametime, check if the selected sentence are similar to those that are already selected. The checking of similarity is based on the similarity threshold value set."
   ]
  },
  {
   "cell_type": "code",
   "execution_count": 290,
   "metadata": {},
   "outputs": [],
   "source": [
    "top_n = 4\n",
    "sim_threshold = 0.95\n",
    "count = 1\n",
    "sentences_summary = []\n",
    "for s in sentences_scores_sort:\n",
    "    if count > top_n:\n",
    "        break\n",
    "    include_flag = True\n",
    "    for ps in sentences_summary:\n",
    "        sim = similarity(s[3], ps[3])\n",
    "\n",
    "        # exclude similar sentences based on sim_threshold\n",
    "        if sim > sim_threshold:\n",
    "            include_flag = False\n",
    "    if include_flag:\n",
    "        sentences_summary.append(s)\n",
    "        count += 1"
   ]
  },
  {
   "cell_type": "code",
   "execution_count": 291,
   "metadata": {},
   "outputs": [
    {
     "data": {
      "text/plain": [
       "(7,\n",
       " 'You can reduce your risk of WNV by using insect repellent and wearing long-sleeved shirts and long pants to prevent mosquito bites.',\n",
       " 0.7662357470135466,\n",
       " array([0.        , 0.        , 3.07944154, 0.        , 0.        ,\n",
       "        0.        , 0.        , 0.        , 0.        , 0.        ,\n",
       "        0.        , 0.        , 0.        , 0.        , 0.        ,\n",
       "        0.        , 0.        , 0.        , 3.07944154, 0.        ,\n",
       "        6.15888308, 0.        , 1.69314718, 0.        , 0.        ,\n",
       "        3.07944154, 0.        , 2.38629436, 3.07944154, 3.07944154,\n",
       "        3.07944154, 0.        , 0.        , 3.07944154, 0.        ,\n",
       "        3.07944154, 0.        , 0.        , 0.        , 0.        ,\n",
       "        0.        , 0.        , 0.        , 0.        , 3.07944154,\n",
       "        0.        , 0.        , 3.07944154, 0.        , 1.69314718]))"
      ]
     },
     "execution_count": 291,
     "metadata": {},
     "output_type": "execute_result"
    }
   ],
   "source": [
    "sentences_summary[0]"
   ]
  },
  {
   "cell_type": "code",
   "execution_count": 292,
   "metadata": {},
   "outputs": [
    {
     "data": {
      "text/plain": [
       "4"
      ]
     },
     "execution_count": 292,
     "metadata": {},
     "output_type": "execute_result"
    }
   ],
   "source": [
    "len(sentences_summary)"
   ]
  },
  {
   "cell_type": "code",
   "execution_count": 293,
   "metadata": {},
   "outputs": [
    {
     "name": "stdout",
     "output_type": "stream",
     "text": [
      "(7, 'You can reduce your risk of WNV by using insect repellent and wearing long-sleeved shirts and long pants to prevent mosquito bites.', 0.7662357470135466)\n",
      "(0, 'West Nile virus (WNV) is the leading cause of mosquito-borne disease in the continental United States.', 0.7057679202239908)\n",
      "(6, 'About 1 out of 150 infected people develop a serious, sometimes fatal, illness.', 0.7034508216842327)\n",
      "(2, 'Cases of WNV occur during mosquito season, which starts in the summer and continues through fall.', 0.7012380031538742)\n"
     ]
    }
   ],
   "source": [
    "# print the top sentences based on score\n",
    "for i in range(top_n):\n",
    "    print(sentences_summary[i][0:3])"
   ]
  },
  {
   "cell_type": "code",
   "execution_count": 294,
   "metadata": {},
   "outputs": [
    {
     "name": "stdout",
     "output_type": "stream",
     "text": [
      "(0, 'West Nile virus (WNV) is the leading cause of mosquito-borne disease in the continental United States.', 0.7057679202239908)\n",
      "(2, 'Cases of WNV occur during mosquito season, which starts in the summer and continues through fall.', 0.7012380031538742)\n",
      "(6, 'About 1 out of 150 infected people develop a serious, sometimes fatal, illness.', 0.7034508216842327)\n",
      "(7, 'You can reduce your risk of WNV by using insect repellent and wearing long-sleeved shirts and long pants to prevent mosquito bites.', 0.7662357470135466)\n"
     ]
    }
   ],
   "source": [
    "# print the top sentences based on sentence order\n",
    "sentences_summary_sort = sorted(sentences_summary, key=lambda el: el[0])\n",
    "for i in range(top_n):\n",
    "    print(sentences_summary_sort[i][0:3])"
   ]
  },
  {
   "cell_type": "code",
   "execution_count": 295,
   "metadata": {},
   "outputs": [
    {
     "data": {
      "image/png": "[encoded data removed]",
      "text/plain": [
       "<Figure size 864x576 with 1 Axes>"
      ]
     },
     "metadata": {
      "needs_background": "light"
     },
     "output_type": "display_data"
    }
   ],
   "source": [
    "# visualistion of sentences vector\n",
    "word_labels = sentences\n",
    "\n",
    "from sklearn.manifold import TSNE\n",
    "# find tsne coords for 2 dimensions\n",
    "tsne = TSNE(n_components=2, random_state=0)\n",
    "np.set_printoptions(suppress=True)\n",
    "Y = tsne.fit_transform(tfidf)\n",
    "\n",
    "x_coords = Y[:, 0]\n",
    "y_coords = Y[:, 1]\n",
    "# display scatter plot\n",
    "\n",
    "plt.figure(figsize=(12,8))\n",
    "plt.scatter(x_coords, y_coords)\n",
    "\n",
    "for label, x, y in zip(word_labels, x_coords, y_coords):\n",
    "    plt.annotate(label, xy=(x, y), xytext=(0, 0), textcoords='offset points')\n",
    "plt.xlim(x_coords.min()+0.00005, x_coords.max()+0.00005)\n",
    "plt.ylim(y_coords.min()+0.00005, y_coords.max()+0.00005)\n",
    "plt.show()"
   ]
  },
  {
   "cell_type": "markdown",
   "metadata": {},
   "source": [
    "# Model 3 : Pre-Trained Bert Summarizer"
   ]
  },
  {
   "cell_type": "markdown",
   "metadata": {},
   "source": [
    "This tool utilizes the HuggingFace Pytorch transformers library to run extractive summarizations. This works by first embedding the sentences, then running a clustering algorithm, finding the sentences that are closest to the cluster's centroids. This library also uses coreference techniques, utilizing the https://github.com/huggingface/neuralcoref library to resolve words in summaries that need more context. The greedyness of the neuralcoref library can be tweaked in the SingleModel class.\n",
    "\n",
    "Paper: https://arxiv.org/abs/1906.04165\n",
    "- https://pypi.org/project/bert-extractive-summarizer/"
   ]
  },
  {
   "cell_type": "code",
   "execution_count": 296,
   "metadata": {},
   "outputs": [],
   "source": [
    "#to test bert summarizer\n",
    "#pip install bert-extractive-summarizer\n",
    "#pip install spacy==2.1.0    #if you have higher version, do pip uninstall spacy\n",
    "#pip install transformers\n",
    "\n",
    "from summarizer import Summarizer"
   ]
  },
  {
   "cell_type": "code",
   "execution_count": 297,
   "metadata": {},
   "outputs": [],
   "source": [
    "def generate_summary_bert(text,sent_count, num_sentences_to_match):\n",
    "    bert_model = Summarizer()\n",
    "    generated_summary = bert_model(text,num_sentences_to_match/sent_count)\n",
    "    return(generated_summary)"
   ]
  },
  {
   "cell_type": "markdown",
   "metadata": {},
   "source": [
    "## Sample Test Case"
   ]
  },
  {
   "cell_type": "markdown",
   "metadata": {},
   "source": [
    "### Read text from block"
   ]
  },
  {
   "cell_type": "code",
   "execution_count": 298,
   "metadata": {},
   "outputs": [],
   "source": [
    "#text = input('Copy and paste your text here')\n",
    "text = \"\"\"West Nile virus (WNV) is the leading cause of mosquito-borne disease in the continental United States. It is most commonly spread to people by the bite of an infected mosquito. Cases of WNV occur during mosquito season, which starts in the summer and continues through fall. There are no vaccines to prevent or medications to treat WNV in people. Fortunately, most people infected with WNV do not feel sick. About 1 in 5 people who are infected develop a fever and other symptoms. About 1 out of 150 infected people develop a serious, sometimes fatal, illness. You can reduce your risk of WNV by using insect repellent and wearing long-sleeved shirts and long pants to prevent mosquito bites.\"\"\""
   ]
  },
  {
   "cell_type": "code",
   "execution_count": 299,
   "metadata": {},
   "outputs": [
    {
     "name": "stdout",
     "output_type": "stream",
     "text": [
      "Number of words :  120\n",
      "Number of sentences :  8\n"
     ]
    }
   ],
   "source": [
    "print('Number of words : ',get_wordcount(''.join(text)))\n",
    "print('Number of sentences : ', get_sentencecount(text))"
   ]
  },
  {
   "cell_type": "code",
   "execution_count": 300,
   "metadata": {},
   "outputs": [
    {
     "data": {
      "text/plain": [
       "'West Nile virus (WNV) is the leading cause of mosquito-borne disease in the continental United States. It is most commonly spread to people by the bite of an infected mosquito. There are no vaccines to prevent or medications to treat WNV in people. About 1 in 5 people who are infected develop a fever and other symptoms.'"
      ]
     },
     "execution_count": 300,
     "metadata": {},
     "output_type": "execute_result"
    }
   ],
   "source": [
    "top_n = 4\n",
    "sent_count = get_sentencecount(text)\n",
    "generate_summary_bert(text,sent_count, top_n)"
   ]
  },
  {
   "cell_type": "markdown",
   "metadata": {},
   "source": [
    "# Model Evaluation"
   ]
  },
  {
   "cell_type": "markdown",
   "metadata": {},
   "source": [
    "## Rouge Metrics"
   ]
  },
  {
   "cell_type": "markdown",
   "metadata": {},
   "source": [
    "The performance of a text summarization system is measured by its ROUGE score. ROUGE score measures the overlap between predicted and ground truth summary. ROUGE stands for Recall-Oriented Understudy for Gisting Evaluation. \n",
    "- ROUGE-1 refers to overlap of unigrams \n",
    "- ROUGE-2 refers to overlap of bigrams\n",
    "- ROUGE-L –  measures longest matching sequence of words using LCS. An advantage of using LCS is that it does not require consecutive matches but in-sequence matches that reflect sentence level word order. (Note. LCS = Longest common subsequence)\n",
    "\n",
    "Recall in the context of ROUGE simply means how much of the reference summary is the system summary recovering or capturing.\n",
    "\n",
    "Recall = (number of overlapping words) / (total words in reference summary)\n",
    "\n",
    "In terms of precision, what you are essentially measuring is, how much of the model summary was in fact relevant or needed.\n",
    "\n",
    "Precision = (number of overlapping words) / (total words in generated summary)\n",
    "\n"
   ]
  },
  {
   "cell_type": "markdown",
   "metadata": {},
   "source": [
    "## DataSet : BBC News Articles / Summaries"
   ]
  },
  {
   "cell_type": "markdown",
   "metadata": {},
   "source": [
    "The BBC News dataaset consists of 2223 Articles and Summaries based on 5 categories : Tech, Sport, Politics, Entertainment, Business.\n",
    "\n",
    "These articles were fed into all the three models for summary generation and scoring against BBC summary based on Rouge Metrics."
   ]
  },
  {
   "cell_type": "code",
   "execution_count": 301,
   "metadata": {},
   "outputs": [],
   "source": [
    "def score_summary(generated_summary, reference_summary):\n",
    "    rouge = Rouge()\n",
    "    scores = rouge.get_scores(generated_summary,reference_summary)\n",
    "    return scores"
   ]
  },
  {
   "cell_type": "code",
   "execution_count": 302,
   "metadata": {},
   "outputs": [],
   "source": [
    "# Function to score generated summary with BBC summary\n",
    "def evaluate_bbc_summary(file, model):\n",
    "    \n",
    "    # get summary file \n",
    "    print('file : ',file)\n",
    "    file_summary = file.replace('NewsArticles','Summaries')\n",
    "    bbc_summary = readFile(file_summary)\n",
    "    bbc_summary = ''.join(bbc_summary).replace('.','. ')\n",
    "    num_sentences_to_match = len(bbc_summary.split('.'))-1\n",
    "    print('Number of Sentences to match: ',num_sentences_to_match)\n",
    "\n",
    "    # get generated summary\n",
    "    text = readFile(file)\n",
    "    text_sent_count = get_sentencecount(text)\n",
    "    text_word_count = get_wordcount(''.join(text))\n",
    "    if model == 'textrank':\n",
    "        generated_summary = generate_summary_textrank(text,num_sentences_to_match,word_embeddings)\n",
    "    elif model == 'cbow':\n",
    "        generated_summary = generate_summary_cbow(text,num_sentences_to_match)\n",
    "    elif model == 'bert':\n",
    "        generated_summary = generate_summary_bert(text,text_sent_count,num_sentences_to_match)\n",
    "    summary_sent_count = get_sentencecount(generated_summary)\n",
    "    summary_word_count = get_wordcount(''.join(generated_summary))\n",
    "    rouge = Rouge()\n",
    "    scores = rouge.get_scores(generated_summary,bbc_summary)\n",
    "    return text_sent_count, text_word_count,summary_sent_count, summary_word_count,model,scores"
   ]
  },
  {
   "cell_type": "markdown",
   "metadata": {},
   "source": [
    "## Model 1 Graph Based Summarization Evaluation"
   ]
  },
  {
   "cell_type": "markdown",
   "metadata": {},
   "source": [
    "### One Sample"
   ]
  },
  {
   "cell_type": "code",
   "execution_count": 303,
   "metadata": {},
   "outputs": [],
   "source": [
    "file = '../dataset/NewsArticles/tech/005.txt'\n",
    "text = readFile(file)\n",
    "\n",
    "file_summary = '../dataset/Summaries/tech/005.txt'\n",
    "bbc_summary = readFile(file_summary)\n",
    "bbc_summary = ''.join(bbc_summary).replace('.','. ')\n",
    "num_sentences_to_match = len(bbc_summary.split('.'))-1"
   ]
  },
  {
   "cell_type": "code",
   "execution_count": 304,
   "metadata": {},
   "outputs": [
    {
     "name": "stdout",
     "output_type": "stream",
     "text": [
      "cleaning sentences ...\n",
      "creating word vectors for sentences ...\n",
      "creating sentence similarity matrix ...\n",
      "scoring sentences ...\n",
      "ranking sentences ...\n",
      "generating summary ...\n",
      "completed\n"
     ]
    }
   ],
   "source": [
    "textrank_summary = generate_summary_textrank(text, num_sentences_to_match, word_embeddings)"
   ]
  },
  {
   "cell_type": "code",
   "execution_count": 305,
   "metadata": {},
   "outputs": [
    {
     "data": {
      "text/plain": [
       "[{'rouge-1': {'f': 0.6635730808546465,\n",
       "   'p': 0.6383928571428571,\n",
       "   'r': 0.6908212560386473},\n",
       "  'rouge-2': {'f': 0.5586924169979843,\n",
       "   'p': 0.5386819484240688,\n",
       "   'r': 0.5802469135802469},\n",
       "  'rouge-l': {'f': 0.6568919538033814,\n",
       "   'p': 0.6339285714285714,\n",
       "   'r': 0.6859903381642513}}]"
      ]
     },
     "execution_count": 305,
     "metadata": {},
     "output_type": "execute_result"
    }
   ],
   "source": [
    "score_summary(textrank_summary,bbc_summary)"
   ]
  },
  {
   "cell_type": "code",
   "execution_count": 306,
   "metadata": {},
   "outputs": [
    {
     "name": "stdout",
     "output_type": "stream",
     "text": [
      "cleaning sentences ...\n",
      "creating word vectors for sentences ...\n",
      "creating sentence similarity matrix ...\n",
      "scoring sentences ...\n",
      "ranking sentences ...\n",
      "generating summary ...\n",
      "completed\n"
     ]
    }
   ],
   "source": [
    "textrank_summary = generate_summary_textrank_sim_threshold(text, num_sentences_to_match, word_embeddings)"
   ]
  },
  {
   "cell_type": "code",
   "execution_count": 307,
   "metadata": {},
   "outputs": [
    {
     "data": {
      "text/plain": [
       "[{'rouge-1': {'f': 0.6235011940410262,\n",
       "   'p': 0.6190476190476191,\n",
       "   'r': 0.6280193236714976},\n",
       "  'rouge-2': {'f': 0.4960998389943561,\n",
       "   'p': 0.501577287066246,\n",
       "   'r': 0.49074074074074076},\n",
       "  'rouge-l': {'f': 0.6186410010880787,\n",
       "   'p': 0.6142857142857143,\n",
       "   'r': 0.6231884057971014}}]"
      ]
     },
     "execution_count": 307,
     "metadata": {},
     "output_type": "execute_result"
    }
   ],
   "source": [
    "score_summary(textrank_summary,bbc_summary)"
   ]
  },
  {
   "cell_type": "markdown",
   "metadata": {},
   "source": [
    "### All Samples"
   ]
  },
  {
   "cell_type": "raw",
   "metadata": {},
   "source": [
    "# to get scores for all bbc summaries(5 categories)\n",
    "# one output file for each category, total: 5 files, folder: dataset/Model/\n",
    "# To run one category at a time\n",
    "# The output files are found in the dataset folder.\n",
    "import os\n",
    "scorelist = []\n",
    "\n",
    "#category = ['business','entertainment','politics','sport','tech']\n",
    "category = ['politics']\n",
    "for cat in category:\n",
    "    filedir = \"../dataset/NewsArticles/\" + cat + \"/\"\n",
    "    for file in os.listdir(filedir):\n",
    "        if file.endswith(\".txt\"):\n",
    "            file = os.path.join(filedir, file)\n",
    "            results = evaluate_bbc_summary(file, 'textrank')\n",
    "            scoredict = {}\n",
    "            scoredict['cat'] = cat\n",
    "            scoredict['file'] = file\n",
    "            scoredict['text_sentence_count'] = results[0]\n",
    "            scoredict['text_word_count'] = results[1]\n",
    "            scoredict['summary_sentence_count'] = results[2]\n",
    "            scoredict['summary_word_count'] = results[3]\n",
    "            scoredict['model'] = 'textrank'\n",
    "            scoredict['rouge_1_p'] = results[5][0]['rouge-1']['p']\n",
    "            scoredict['rouge_1_r'] = results[5][0]['rouge-1']['r']\n",
    "            scoredict['rouge_2_p'] = results[5][0]['rouge-2']['p']\n",
    "            scoredict['rouge_2_r'] = results[5][0]['rouge-2']['r']\n",
    "            scoredict['rouge_L_p'] = results[5][0]['rouge-l']['p']\n",
    "            scoredict['rouge_L_r'] = results[5][0]['rouge-l']['r']\n",
    "            scorelist.append(scoredict)\n",
    "    # save all scores to dataframes for analysis        \n",
    "    df = pd.DataFrame(scorelist, columns=['cat','file','text_sentence_count','text_word_count',\n",
    "                                          'summary_sentence_count','summary_word_count',\n",
    "                                          'model',\n",
    "                                          'rouge_1_p','rouge_1_r',\n",
    "                                          'rouge_2_p','rouge_2_r',\n",
    "                                          'rouge_L_p','rouge_L_r'])\n",
    "    filename = '../dataset/Model/textrank_' + cat + 'score.csv'\n",
    "    df.to_csv(filename)"
   ]
  },
  {
   "cell_type": "markdown",
   "metadata": {},
   "source": [
    "Rouge Scores for generated summaries vs BBC summaries. The scores are found in files in dataset folder."
   ]
  },
  {
   "cell_type": "code",
   "execution_count": 308,
   "metadata": {},
   "outputs": [],
   "source": [
    "techscore = pd.read_csv('../dataset/Model/textrank_techscore.csv')\n",
    "sportscore = pd.read_csv('../dataset/Model/textrank_sportscore.csv')\n",
    "politicsscore = pd.read_csv('../dataset/Model/textrank_politicsscore.csv')\n",
    "entertainmentscore = pd.read_csv('../dataset/Model/textrank_entertainmentscore.csv')\n",
    "businessscore = pd.read_csv('../dataset/Model/textrank_businessscore.csv')\n",
    "techscore.drop('Unnamed: 0',axis=1, inplace=True)\n",
    "sportscore.drop('Unnamed: 0',axis=1, inplace=True)\n",
    "politicsscore.drop('Unnamed: 0',axis=1, inplace=True)\n",
    "entertainmentscore.drop('Unnamed: 0',axis=1, inplace=True)\n",
    "businessscore.drop('Unnamed: 0',axis=1, inplace=True)"
   ]
  },
  {
   "cell_type": "code",
   "execution_count": 309,
   "metadata": {},
   "outputs": [
    {
     "data": {
      "text/plain": [
       "2223"
      ]
     },
     "execution_count": 309,
     "metadata": {},
     "output_type": "execute_result"
    }
   ],
   "source": [
    "textrankall_scores = techscore.append(sportscore).append(politicsscore).append(entertainmentscore).append(businessscore)\n",
    "len(textrankall_scores)"
   ]
  },
  {
   "cell_type": "code",
   "execution_count": 310,
   "metadata": {},
   "outputs": [
    {
     "data": {
      "text/html": [
       "<div>\n",
       "<style scoped>\n",
       "    .dataframe tbody tr th:only-of-type {\n",
       "        vertical-align: middle;\n",
       "    }\n",
       "\n",
       "    .dataframe tbody tr th {\n",
       "        vertical-align: top;\n",
       "    }\n",
       "\n",
       "    .dataframe thead th {\n",
       "        text-align: right;\n",
       "    }\n",
       "</style>\n",
       "<table border=\"1\" class=\"dataframe\">\n",
       "  <thead>\n",
       "    <tr style=\"text-align: right;\">\n",
       "      <th></th>\n",
       "      <th>cat</th>\n",
       "      <th>file</th>\n",
       "      <th>text_sentence_count</th>\n",
       "      <th>text_word_count</th>\n",
       "      <th>summary_sentence_count</th>\n",
       "      <th>summary_word_count</th>\n",
       "      <th>model</th>\n",
       "      <th>rouge_1_p</th>\n",
       "      <th>rouge_1_r</th>\n",
       "      <th>rouge_2_p</th>\n",
       "      <th>rouge_2_r</th>\n",
       "      <th>rouge_L_p</th>\n",
       "      <th>rouge_L_r</th>\n",
       "    </tr>\n",
       "  </thead>\n",
       "  <tbody>\n",
       "    <tr>\n",
       "      <td>0</td>\n",
       "      <td>tech</td>\n",
       "      <td>../dataset/NewsArticles/tech/289.txt</td>\n",
       "      <td>23</td>\n",
       "      <td>455</td>\n",
       "      <td>10</td>\n",
       "      <td>257</td>\n",
       "      <td>textrank</td>\n",
       "      <td>0.758389</td>\n",
       "      <td>0.830882</td>\n",
       "      <td>0.637860</td>\n",
       "      <td>0.759804</td>\n",
       "      <td>0.758389</td>\n",
       "      <td>0.830882</td>\n",
       "    </tr>\n",
       "    <tr>\n",
       "      <td>1</td>\n",
       "      <td>tech</td>\n",
       "      <td>../dataset/NewsArticles/tech/262.txt</td>\n",
       "      <td>10</td>\n",
       "      <td>223</td>\n",
       "      <td>7</td>\n",
       "      <td>148</td>\n",
       "      <td>textrank</td>\n",
       "      <td>0.591837</td>\n",
       "      <td>0.983051</td>\n",
       "      <td>0.577778</td>\n",
       "      <td>0.962963</td>\n",
       "      <td>0.591837</td>\n",
       "      <td>0.983051</td>\n",
       "    </tr>\n",
       "    <tr>\n",
       "      <td>2</td>\n",
       "      <td>tech</td>\n",
       "      <td>../dataset/NewsArticles/tech/276.txt</td>\n",
       "      <td>27</td>\n",
       "      <td>592</td>\n",
       "      <td>11</td>\n",
       "      <td>317</td>\n",
       "      <td>textrank</td>\n",
       "      <td>0.740541</td>\n",
       "      <td>0.856250</td>\n",
       "      <td>0.658784</td>\n",
       "      <td>0.776892</td>\n",
       "      <td>0.729730</td>\n",
       "      <td>0.843750</td>\n",
       "    </tr>\n",
       "    <tr>\n",
       "      <td>3</td>\n",
       "      <td>tech</td>\n",
       "      <td>../dataset/NewsArticles/tech/060.txt</td>\n",
       "      <td>15</td>\n",
       "      <td>278</td>\n",
       "      <td>6</td>\n",
       "      <td>140</td>\n",
       "      <td>textrank</td>\n",
       "      <td>0.543689</td>\n",
       "      <td>0.736842</td>\n",
       "      <td>0.426471</td>\n",
       "      <td>0.585859</td>\n",
       "      <td>0.543689</td>\n",
       "      <td>0.736842</td>\n",
       "    </tr>\n",
       "    <tr>\n",
       "      <td>4</td>\n",
       "      <td>tech</td>\n",
       "      <td>../dataset/NewsArticles/tech/074.txt</td>\n",
       "      <td>25</td>\n",
       "      <td>514</td>\n",
       "      <td>11</td>\n",
       "      <td>282</td>\n",
       "      <td>textrank</td>\n",
       "      <td>0.564417</td>\n",
       "      <td>0.724409</td>\n",
       "      <td>0.437008</td>\n",
       "      <td>0.575130</td>\n",
       "      <td>0.546012</td>\n",
       "      <td>0.700787</td>\n",
       "    </tr>\n",
       "  </tbody>\n",
       "</table>\n",
       "</div>"
      ],
      "text/plain": [
       "    cat                                  file  text_sentence_count  \\\n",
       "0  tech  ../dataset/NewsArticles/tech/289.txt  23                    \n",
       "1  tech  ../dataset/NewsArticles/tech/262.txt  10                    \n",
       "2  tech  ../dataset/NewsArticles/tech/276.txt  27                    \n",
       "3  tech  ../dataset/NewsArticles/tech/060.txt  15                    \n",
       "4  tech  ../dataset/NewsArticles/tech/074.txt  25                    \n",
       "\n",
       "   text_word_count  summary_sentence_count  summary_word_count     model  \\\n",
       "0  455              10                      257                 textrank   \n",
       "1  223              7                       148                 textrank   \n",
       "2  592              11                      317                 textrank   \n",
       "3  278              6                       140                 textrank   \n",
       "4  514              11                      282                 textrank   \n",
       "\n",
       "   rouge_1_p  rouge_1_r  rouge_2_p  rouge_2_r  rouge_L_p  rouge_L_r  \n",
       "0  0.758389   0.830882   0.637860   0.759804   0.758389   0.830882   \n",
       "1  0.591837   0.983051   0.577778   0.962963   0.591837   0.983051   \n",
       "2  0.740541   0.856250   0.658784   0.776892   0.729730   0.843750   \n",
       "3  0.543689   0.736842   0.426471   0.585859   0.543689   0.736842   \n",
       "4  0.564417   0.724409   0.437008   0.575130   0.546012   0.700787   "
      ]
     },
     "execution_count": 310,
     "metadata": {},
     "output_type": "execute_result"
    }
   ],
   "source": [
    "textrankall_scores.head()"
   ]
  },
  {
   "cell_type": "code",
   "execution_count": 311,
   "metadata": {},
   "outputs": [
    {
     "data": {
      "text/html": [
       "<div>\n",
       "<style scoped>\n",
       "    .dataframe tbody tr th:only-of-type {\n",
       "        vertical-align: middle;\n",
       "    }\n",
       "\n",
       "    .dataframe tbody tr th {\n",
       "        vertical-align: top;\n",
       "    }\n",
       "\n",
       "    .dataframe thead th {\n",
       "        text-align: right;\n",
       "    }\n",
       "</style>\n",
       "<table border=\"1\" class=\"dataframe\">\n",
       "  <thead>\n",
       "    <tr style=\"text-align: right;\">\n",
       "      <th></th>\n",
       "      <th>rouge_1_p</th>\n",
       "      <th>rouge_1_r</th>\n",
       "      <th>rouge_2_p</th>\n",
       "      <th>rouge_2_r</th>\n",
       "      <th>rouge_L_p</th>\n",
       "      <th>rouge_L_r</th>\n",
       "    </tr>\n",
       "  </thead>\n",
       "  <tbody>\n",
       "    <tr>\n",
       "      <td>count</td>\n",
       "      <td>2223.000000</td>\n",
       "      <td>2223.000000</td>\n",
       "      <td>2223.000000</td>\n",
       "      <td>2223.000000</td>\n",
       "      <td>2223.000000</td>\n",
       "      <td>2223.000000</td>\n",
       "    </tr>\n",
       "    <tr>\n",
       "      <td>mean</td>\n",
       "      <td>0.645857</td>\n",
       "      <td>0.745650</td>\n",
       "      <td>0.558178</td>\n",
       "      <td>0.653171</td>\n",
       "      <td>0.639976</td>\n",
       "      <td>0.739026</td>\n",
       "    </tr>\n",
       "    <tr>\n",
       "      <td>std</td>\n",
       "      <td>0.127357</td>\n",
       "      <td>0.128882</td>\n",
       "      <td>0.145569</td>\n",
       "      <td>0.159352</td>\n",
       "      <td>0.129961</td>\n",
       "      <td>0.133364</td>\n",
       "    </tr>\n",
       "    <tr>\n",
       "      <td>min</td>\n",
       "      <td>0.155844</td>\n",
       "      <td>0.207547</td>\n",
       "      <td>0.010989</td>\n",
       "      <td>0.011628</td>\n",
       "      <td>0.155844</td>\n",
       "      <td>0.207547</td>\n",
       "    </tr>\n",
       "    <tr>\n",
       "      <td>25%</td>\n",
       "      <td>0.564103</td>\n",
       "      <td>0.670271</td>\n",
       "      <td>0.461538</td>\n",
       "      <td>0.554035</td>\n",
       "      <td>0.556541</td>\n",
       "      <td>0.661017</td>\n",
       "    </tr>\n",
       "    <tr>\n",
       "      <td>50%</td>\n",
       "      <td>0.645570</td>\n",
       "      <td>0.752809</td>\n",
       "      <td>0.559322</td>\n",
       "      <td>0.661692</td>\n",
       "      <td>0.640212</td>\n",
       "      <td>0.745098</td>\n",
       "    </tr>\n",
       "    <tr>\n",
       "      <td>75%</td>\n",
       "      <td>0.730633</td>\n",
       "      <td>0.833333</td>\n",
       "      <td>0.652386</td>\n",
       "      <td>0.759494</td>\n",
       "      <td>0.726253</td>\n",
       "      <td>0.829108</td>\n",
       "    </tr>\n",
       "    <tr>\n",
       "      <td>max</td>\n",
       "      <td>1.000000</td>\n",
       "      <td>1.000000</td>\n",
       "      <td>1.000000</td>\n",
       "      <td>1.000000</td>\n",
       "      <td>1.000000</td>\n",
       "      <td>1.000000</td>\n",
       "    </tr>\n",
       "  </tbody>\n",
       "</table>\n",
       "</div>"
      ],
      "text/plain": [
       "         rouge_1_p    rouge_1_r    rouge_2_p    rouge_2_r    rouge_L_p  \\\n",
       "count  2223.000000  2223.000000  2223.000000  2223.000000  2223.000000   \n",
       "mean   0.645857     0.745650     0.558178     0.653171     0.639976      \n",
       "std    0.127357     0.128882     0.145569     0.159352     0.129961      \n",
       "min    0.155844     0.207547     0.010989     0.011628     0.155844      \n",
       "25%    0.564103     0.670271     0.461538     0.554035     0.556541      \n",
       "50%    0.645570     0.752809     0.559322     0.661692     0.640212      \n",
       "75%    0.730633     0.833333     0.652386     0.759494     0.726253      \n",
       "max    1.000000     1.000000     1.000000     1.000000     1.000000      \n",
       "\n",
       "         rouge_L_r  \n",
       "count  2223.000000  \n",
       "mean   0.739026     \n",
       "std    0.133364     \n",
       "min    0.207547     \n",
       "25%    0.661017     \n",
       "50%    0.745098     \n",
       "75%    0.829108     \n",
       "max    1.000000     "
      ]
     },
     "execution_count": 311,
     "metadata": {},
     "output_type": "execute_result"
    }
   ],
   "source": [
    "cols = ['rouge_1_p','rouge_1_r','rouge_2_p','rouge_2_r','rouge_L_p','rouge_L_r']\n",
    "textrankall_scores.describe()[cols]"
   ]
  },
  {
   "cell_type": "code",
   "execution_count": 312,
   "metadata": {},
   "outputs": [
    {
     "data": {
      "text/html": [
       "<div>\n",
       "<style scoped>\n",
       "    .dataframe tbody tr th:only-of-type {\n",
       "        vertical-align: middle;\n",
       "    }\n",
       "\n",
       "    .dataframe tbody tr th {\n",
       "        vertical-align: top;\n",
       "    }\n",
       "\n",
       "    .dataframe thead th {\n",
       "        text-align: right;\n",
       "    }\n",
       "</style>\n",
       "<table border=\"1\" class=\"dataframe\">\n",
       "  <thead>\n",
       "    <tr style=\"text-align: right;\">\n",
       "      <th></th>\n",
       "      <th>cat</th>\n",
       "      <th>file</th>\n",
       "      <th>text_sentence_count</th>\n",
       "      <th>text_word_count</th>\n",
       "      <th>summary_sentence_count</th>\n",
       "      <th>summary_word_count</th>\n",
       "      <th>model</th>\n",
       "      <th>rouge_1_p</th>\n",
       "      <th>rouge_1_r</th>\n",
       "      <th>rouge_2_p</th>\n",
       "      <th>rouge_2_r</th>\n",
       "      <th>rouge_L_p</th>\n",
       "      <th>rouge_L_r</th>\n",
       "    </tr>\n",
       "  </thead>\n",
       "  <tbody>\n",
       "    <tr>\n",
       "      <td>135</td>\n",
       "      <td>tech</td>\n",
       "      <td>../dataset/NewsArticles/tech/005.txt</td>\n",
       "      <td>37</td>\n",
       "      <td>819</td>\n",
       "      <td>15</td>\n",
       "      <td>370</td>\n",
       "      <td>textrank</td>\n",
       "      <td>0.638393</td>\n",
       "      <td>0.690821</td>\n",
       "      <td>0.538682</td>\n",
       "      <td>0.580247</td>\n",
       "      <td>0.633929</td>\n",
       "      <td>0.68599</td>\n",
       "    </tr>\n",
       "  </tbody>\n",
       "</table>\n",
       "</div>"
      ],
      "text/plain": [
       "      cat                                  file  text_sentence_count  \\\n",
       "135  tech  ../dataset/NewsArticles/tech/005.txt  37                    \n",
       "\n",
       "     text_word_count  summary_sentence_count  summary_word_count     model  \\\n",
       "135  819              15                      370                 textrank   \n",
       "\n",
       "     rouge_1_p  rouge_1_r  rouge_2_p  rouge_2_r  rouge_L_p  rouge_L_r  \n",
       "135  0.638393   0.690821   0.538682   0.580247   0.633929   0.68599    "
      ]
     },
     "execution_count": 312,
     "metadata": {},
     "output_type": "execute_result"
    }
   ],
   "source": [
    "textrankall_scores[textrankall_scores['file'] == '../dataset/NewsArticles/tech/005.txt']"
   ]
  },
  {
   "cell_type": "markdown",
   "metadata": {},
   "source": [
    "Based on the rouge scores obtained on the 2223 summaries, the generated summaries has a mean recall score of 74% for rouge-1, 65% for rouge-2 and 73% for rouge-L."
   ]
  },
  {
   "cell_type": "markdown",
   "metadata": {},
   "source": [
    "## Model 2 Centroid Based Summarization Evaluation"
   ]
  },
  {
   "cell_type": "markdown",
   "metadata": {},
   "source": [
    "### One sample"
   ]
  },
  {
   "cell_type": "code",
   "execution_count": 313,
   "metadata": {},
   "outputs": [],
   "source": [
    "file = '../dataset/NewsArticles/tech/005.txt'\n",
    "text = readFile(file)\n",
    "\n",
    "file_summary = '../dataset/Summaries/tech/005.txt'\n",
    "bbc_summary = readFile(file_summary)\n",
    "bbc_summary = ''.join(bbc_summary).replace('.','. ')\n",
    "num_sentences_to_match = len(bbc_summary.split('.'))-1"
   ]
  },
  {
   "cell_type": "code",
   "execution_count": 314,
   "metadata": {
    "scrolled": true
   },
   "outputs": [
    {
     "name": "stdout",
     "output_type": "stream",
     "text": [
      "cleaning sentences ...\n",
      "converting to TFIDF ...\n",
      "getting sentences close to centroid vector ...\n",
      "Scoring sentences ...\n",
      "Extracting sentences ...\n",
      "Completed ...\n"
     ]
    }
   ],
   "source": [
    "cbow_summary = generate_summary_cbow(text, num_sentences_to_match)"
   ]
  },
  {
   "cell_type": "code",
   "execution_count": 315,
   "metadata": {},
   "outputs": [
    {
     "data": {
      "text/plain": [
       "[{'rouge-1': {'f': 0.8229885007587793,\n",
       "   'p': 0.7850877192982456,\n",
       "   'r': 0.8647342995169082},\n",
       "  'rouge-2': {'f': 0.7503566284094662,\n",
       "   'p': 0.6976127320954907,\n",
       "   'r': 0.8117283950617284},\n",
       "  'rouge-l': {'f': 0.8191790936190494,\n",
       "   'p': 0.7850877192982456,\n",
       "   'r': 0.8647342995169082}}]"
      ]
     },
     "execution_count": 315,
     "metadata": {},
     "output_type": "execute_result"
    }
   ],
   "source": [
    "score_summary(cbow_summary,bbc_summary)"
   ]
  },
  {
   "cell_type": "markdown",
   "metadata": {},
   "source": [
    "### All Samples"
   ]
  },
  {
   "cell_type": "raw",
   "metadata": {},
   "source": [
    "# to get scores for all bbc summaries(5 categories)\n",
    "# one output file for each category, total: 5 files, folder: dataset/Model/\n",
    "# To run one category at a time\n",
    "# The output files are found in the dataset folder.\n",
    "import os\n",
    "scorelist = []\n",
    "\n",
    "#category = ['business','entertainment','politics','sport','tech']\n",
    "category = ['business']\n",
    "for cat in category:\n",
    "    filedir = \"../dataset/NewsArticles/\" + cat + \"/\"\n",
    "    for file in os.listdir(filedir):\n",
    "        if file.endswith(\".txt\"):\n",
    "            file = os.path.join(filedir, file)\n",
    "            results = evaluate_bbc_summary(file, 'cbow')\n",
    "            scoredict = {}\n",
    "            scoredict['cat'] = cat\n",
    "            scoredict['file'] = file\n",
    "            scoredict['text_sentence_count'] = results[0]\n",
    "            scoredict['text_word_count'] = results[1]\n",
    "            scoredict['summary_sentence_count'] = results[2]\n",
    "            scoredict['summary_word_count'] = results[3]\n",
    "            scoredict['model'] = results[4]\n",
    "            scoredict['rouge_1_p'] = results[5][0]['rouge-1']['p']\n",
    "            scoredict['rouge_1_r'] = results[5][0]['rouge-1']['r']\n",
    "            scoredict['rouge_2_p'] = results[5][0]['rouge-2']['p']\n",
    "            scoredict['rouge_2_r'] = results[5][0]['rouge-2']['r']\n",
    "            scoredict['rouge_L_p'] = results[5][0]['rouge-l']['p']\n",
    "            scoredict['rouge_L_r'] = results[5][0]['rouge-l']['r']\n",
    "            scorelist.append(scoredict)\n",
    "    # save all scores to dataframes for analysis        \n",
    "    df = pd.DataFrame(scorelist, columns=['cat','file','text_sentence_count','text_word_count',\n",
    "                                          'summary_sentence_count','summary_word_count',\n",
    "                                          'model',\n",
    "                                          'rouge_1_p','rouge_1_r',\n",
    "                                          'rouge_2_p','rouge_2_r',\n",
    "                                          'rouge_L_p','rouge_L_r'])\n",
    "    filename = '../dataset/Model/cbow_' + cat + 'score.csv'\n",
    "    df.to_csv(filename)"
   ]
  },
  {
   "cell_type": "markdown",
   "metadata": {},
   "source": [
    "Rouge Scores for generated summaries vs BBC summaries. The scores are found in files in dataset folder."
   ]
  },
  {
   "cell_type": "code",
   "execution_count": 316,
   "metadata": {},
   "outputs": [],
   "source": [
    "cbowtechscore = pd.read_csv('../dataset/Model/cbow_techscore.csv')\n",
    "cbowsportscore = pd.read_csv('../dataset/Model/cbow_sportscore.csv')\n",
    "cbowpoliticsscore = pd.read_csv('../dataset/Model/cbow_politicsscore.csv')\n",
    "cbowentertainmentscore = pd.read_csv('../dataset/Model/cbow_entertainmentscore.csv')\n",
    "cbowbusinessscore = pd.read_csv('../dataset/Model/cbow_businessscore.csv')\n",
    "cbowtechscore.drop('Unnamed: 0',axis=1, inplace=True)\n",
    "cbowsportscore.drop('Unnamed: 0',axis=1, inplace=True)\n",
    "cbowpoliticsscore.drop('Unnamed: 0',axis=1, inplace=True)\n",
    "cbowentertainmentscore.drop('Unnamed: 0',axis=1, inplace=True)\n",
    "cbowbusinessscore.drop('Unnamed: 0',axis=1, inplace=True)"
   ]
  },
  {
   "cell_type": "code",
   "execution_count": 317,
   "metadata": {},
   "outputs": [
    {
     "data": {
      "text/plain": [
       "2223"
      ]
     },
     "execution_count": 317,
     "metadata": {},
     "output_type": "execute_result"
    }
   ],
   "source": [
    "cbowall_scores = cbowtechscore.append(cbowsportscore).append(cbowpoliticsscore).append(cbowentertainmentscore).append(cbowbusinessscore)\n",
    "len(cbowall_scores)"
   ]
  },
  {
   "cell_type": "code",
   "execution_count": 318,
   "metadata": {
    "scrolled": true
   },
   "outputs": [
    {
     "data": {
      "text/html": [
       "<div>\n",
       "<style scoped>\n",
       "    .dataframe tbody tr th:only-of-type {\n",
       "        vertical-align: middle;\n",
       "    }\n",
       "\n",
       "    .dataframe tbody tr th {\n",
       "        vertical-align: top;\n",
       "    }\n",
       "\n",
       "    .dataframe thead th {\n",
       "        text-align: right;\n",
       "    }\n",
       "</style>\n",
       "<table border=\"1\" class=\"dataframe\">\n",
       "  <thead>\n",
       "    <tr style=\"text-align: right;\">\n",
       "      <th></th>\n",
       "      <th>cat</th>\n",
       "      <th>file</th>\n",
       "      <th>text_sentence_count</th>\n",
       "      <th>text_word_count</th>\n",
       "      <th>summary_sentence_count</th>\n",
       "      <th>summary_word_count</th>\n",
       "      <th>model</th>\n",
       "      <th>rouge_1_p</th>\n",
       "      <th>rouge_1_r</th>\n",
       "      <th>rouge_2_p</th>\n",
       "      <th>rouge_2_r</th>\n",
       "      <th>rouge_L_p</th>\n",
       "      <th>rouge_L_r</th>\n",
       "    </tr>\n",
       "  </thead>\n",
       "  <tbody>\n",
       "    <tr>\n",
       "      <td>467</td>\n",
       "      <td>sport</td>\n",
       "      <td>../dataset/NewsArticles/sport/287.txt</td>\n",
       "      <td>15</td>\n",
       "      <td>329</td>\n",
       "      <td>5</td>\n",
       "      <td>195</td>\n",
       "      <td>cbow</td>\n",
       "      <td>0.779412</td>\n",
       "      <td>0.861789</td>\n",
       "      <td>0.723164</td>\n",
       "      <td>0.820513</td>\n",
       "      <td>0.779412</td>\n",
       "      <td>0.861789</td>\n",
       "    </tr>\n",
       "    <tr>\n",
       "      <td>153</td>\n",
       "      <td>tech</td>\n",
       "      <td>../dataset/NewsArticles/tech/206.txt</td>\n",
       "      <td>30</td>\n",
       "      <td>658</td>\n",
       "      <td>13</td>\n",
       "      <td>352</td>\n",
       "      <td>cbow</td>\n",
       "      <td>0.766667</td>\n",
       "      <td>0.793103</td>\n",
       "      <td>0.687307</td>\n",
       "      <td>0.727869</td>\n",
       "      <td>0.766667</td>\n",
       "      <td>0.793103</td>\n",
       "    </tr>\n",
       "    <tr>\n",
       "      <td>447</td>\n",
       "      <td>sport</td>\n",
       "      <td>../dataset/NewsArticles/sport/319.txt</td>\n",
       "      <td>6</td>\n",
       "      <td>128</td>\n",
       "      <td>4</td>\n",
       "      <td>101</td>\n",
       "      <td>cbow</td>\n",
       "      <td>0.539474</td>\n",
       "      <td>0.788462</td>\n",
       "      <td>0.428571</td>\n",
       "      <td>0.724138</td>\n",
       "      <td>0.539474</td>\n",
       "      <td>0.788462</td>\n",
       "    </tr>\n",
       "    <tr>\n",
       "      <td>181</td>\n",
       "      <td>tech</td>\n",
       "      <td>../dataset/NewsArticles/tech/036.txt</td>\n",
       "      <td>10</td>\n",
       "      <td>225</td>\n",
       "      <td>5</td>\n",
       "      <td>101</td>\n",
       "      <td>cbow</td>\n",
       "      <td>0.633333</td>\n",
       "      <td>0.745098</td>\n",
       "      <td>0.522727</td>\n",
       "      <td>0.657143</td>\n",
       "      <td>0.616667</td>\n",
       "      <td>0.725490</td>\n",
       "    </tr>\n",
       "    <tr>\n",
       "      <td>33</td>\n",
       "      <td>sport</td>\n",
       "      <td>../dataset/NewsArticles/sport/261.txt</td>\n",
       "      <td>8</td>\n",
       "      <td>155</td>\n",
       "      <td>5</td>\n",
       "      <td>105</td>\n",
       "      <td>cbow</td>\n",
       "      <td>0.797297</td>\n",
       "      <td>0.967213</td>\n",
       "      <td>0.710000</td>\n",
       "      <td>0.946667</td>\n",
       "      <td>0.797297</td>\n",
       "      <td>0.967213</td>\n",
       "    </tr>\n",
       "    <tr>\n",
       "      <td>353</td>\n",
       "      <td>tech</td>\n",
       "      <td>../dataset/NewsArticles/tech/047.txt</td>\n",
       "      <td>17</td>\n",
       "      <td>327</td>\n",
       "      <td>8</td>\n",
       "      <td>157</td>\n",
       "      <td>cbow</td>\n",
       "      <td>0.682692</td>\n",
       "      <td>0.806818</td>\n",
       "      <td>0.601399</td>\n",
       "      <td>0.741379</td>\n",
       "      <td>0.682692</td>\n",
       "      <td>0.806818</td>\n",
       "    </tr>\n",
       "    <tr>\n",
       "      <td>264</td>\n",
       "      <td>entertainment</td>\n",
       "      <td>../dataset/NewsArticles/entertainment/378.txt</td>\n",
       "      <td>19</td>\n",
       "      <td>399</td>\n",
       "      <td>10</td>\n",
       "      <td>219</td>\n",
       "      <td>cbow</td>\n",
       "      <td>0.484615</td>\n",
       "      <td>0.630000</td>\n",
       "      <td>0.390244</td>\n",
       "      <td>0.563380</td>\n",
       "      <td>0.484615</td>\n",
       "      <td>0.630000</td>\n",
       "    </tr>\n",
       "    <tr>\n",
       "      <td>186</td>\n",
       "      <td>business</td>\n",
       "      <td>../dataset/NewsArticles/business/373.txt</td>\n",
       "      <td>8</td>\n",
       "      <td>174</td>\n",
       "      <td>5</td>\n",
       "      <td>127</td>\n",
       "      <td>cbow</td>\n",
       "      <td>0.826087</td>\n",
       "      <td>0.987013</td>\n",
       "      <td>0.747899</td>\n",
       "      <td>0.967391</td>\n",
       "      <td>0.826087</td>\n",
       "      <td>0.987013</td>\n",
       "    </tr>\n",
       "    <tr>\n",
       "      <td>326</td>\n",
       "      <td>business</td>\n",
       "      <td>../dataset/NewsArticles/business/227.txt</td>\n",
       "      <td>9</td>\n",
       "      <td>193</td>\n",
       "      <td>5</td>\n",
       "      <td>123</td>\n",
       "      <td>cbow</td>\n",
       "      <td>0.773810</td>\n",
       "      <td>0.970149</td>\n",
       "      <td>0.685950</td>\n",
       "      <td>0.943182</td>\n",
       "      <td>0.773810</td>\n",
       "      <td>0.970149</td>\n",
       "    </tr>\n",
       "    <tr>\n",
       "      <td>241</td>\n",
       "      <td>business</td>\n",
       "      <td>../dataset/NewsArticles/business/426.txt</td>\n",
       "      <td>22</td>\n",
       "      <td>413</td>\n",
       "      <td>10</td>\n",
       "      <td>219</td>\n",
       "      <td>cbow</td>\n",
       "      <td>0.715232</td>\n",
       "      <td>0.800000</td>\n",
       "      <td>0.625592</td>\n",
       "      <td>0.691099</td>\n",
       "      <td>0.708609</td>\n",
       "      <td>0.792593</td>\n",
       "    </tr>\n",
       "  </tbody>\n",
       "</table>\n",
       "</div>"
      ],
      "text/plain": [
       "               cat                                           file  \\\n",
       "467  sport          ../dataset/NewsArticles/sport/287.txt           \n",
       "153  tech           ../dataset/NewsArticles/tech/206.txt            \n",
       "447  sport          ../dataset/NewsArticles/sport/319.txt           \n",
       "181  tech           ../dataset/NewsArticles/tech/036.txt            \n",
       "33   sport          ../dataset/NewsArticles/sport/261.txt           \n",
       "353  tech           ../dataset/NewsArticles/tech/047.txt            \n",
       "264  entertainment  ../dataset/NewsArticles/entertainment/378.txt   \n",
       "186  business       ../dataset/NewsArticles/business/373.txt        \n",
       "326  business       ../dataset/NewsArticles/business/227.txt        \n",
       "241  business       ../dataset/NewsArticles/business/426.txt        \n",
       "\n",
       "     text_sentence_count  text_word_count  summary_sentence_count  \\\n",
       "467  15                   329              5                        \n",
       "153  30                   658              13                       \n",
       "447  6                    128              4                        \n",
       "181  10                   225              5                        \n",
       "33   8                    155              5                        \n",
       "353  17                   327              8                        \n",
       "264  19                   399              10                       \n",
       "186  8                    174              5                        \n",
       "326  9                    193              5                        \n",
       "241  22                   413              10                       \n",
       "\n",
       "     summary_word_count model  rouge_1_p  rouge_1_r  rouge_2_p  rouge_2_r  \\\n",
       "467  195                 cbow  0.779412   0.861789   0.723164   0.820513    \n",
       "153  352                 cbow  0.766667   0.793103   0.687307   0.727869    \n",
       "447  101                 cbow  0.539474   0.788462   0.428571   0.724138    \n",
       "181  101                 cbow  0.633333   0.745098   0.522727   0.657143    \n",
       "33   105                 cbow  0.797297   0.967213   0.710000   0.946667    \n",
       "353  157                 cbow  0.682692   0.806818   0.601399   0.741379    \n",
       "264  219                 cbow  0.484615   0.630000   0.390244   0.563380    \n",
       "186  127                 cbow  0.826087   0.987013   0.747899   0.967391    \n",
       "326  123                 cbow  0.773810   0.970149   0.685950   0.943182    \n",
       "241  219                 cbow  0.715232   0.800000   0.625592   0.691099    \n",
       "\n",
       "     rouge_L_p  rouge_L_r  \n",
       "467  0.779412   0.861789   \n",
       "153  0.766667   0.793103   \n",
       "447  0.539474   0.788462   \n",
       "181  0.616667   0.725490   \n",
       "33   0.797297   0.967213   \n",
       "353  0.682692   0.806818   \n",
       "264  0.484615   0.630000   \n",
       "186  0.826087   0.987013   \n",
       "326  0.773810   0.970149   \n",
       "241  0.708609   0.792593   "
      ]
     },
     "execution_count": 318,
     "metadata": {},
     "output_type": "execute_result"
    }
   ],
   "source": [
    "cbowall_scores.sort_values(by=['cat','file']).sample(10)"
   ]
  },
  {
   "cell_type": "code",
   "execution_count": 319,
   "metadata": {
    "scrolled": true
   },
   "outputs": [
    {
     "data": {
      "text/html": [
       "<div>\n",
       "<style scoped>\n",
       "    .dataframe tbody tr th:only-of-type {\n",
       "        vertical-align: middle;\n",
       "    }\n",
       "\n",
       "    .dataframe tbody tr th {\n",
       "        vertical-align: top;\n",
       "    }\n",
       "\n",
       "    .dataframe thead th {\n",
       "        text-align: right;\n",
       "    }\n",
       "</style>\n",
       "<table border=\"1\" class=\"dataframe\">\n",
       "  <thead>\n",
       "    <tr style=\"text-align: right;\">\n",
       "      <th></th>\n",
       "      <th>rouge_1_p</th>\n",
       "      <th>rouge_1_r</th>\n",
       "      <th>rouge_2_p</th>\n",
       "      <th>rouge_2_r</th>\n",
       "      <th>rouge_L_p</th>\n",
       "      <th>rouge_L_r</th>\n",
       "    </tr>\n",
       "  </thead>\n",
       "  <tbody>\n",
       "    <tr>\n",
       "      <td>count</td>\n",
       "      <td>2223.000000</td>\n",
       "      <td>2223.000000</td>\n",
       "      <td>2223.000000</td>\n",
       "      <td>2223.000000</td>\n",
       "      <td>2223.000000</td>\n",
       "      <td>2223.000000</td>\n",
       "    </tr>\n",
       "    <tr>\n",
       "      <td>mean</td>\n",
       "      <td>0.704003</td>\n",
       "      <td>0.859584</td>\n",
       "      <td>0.628502</td>\n",
       "      <td>0.800870</td>\n",
       "      <td>0.701721</td>\n",
       "      <td>0.856753</td>\n",
       "    </tr>\n",
       "    <tr>\n",
       "      <td>std</td>\n",
       "      <td>0.127298</td>\n",
       "      <td>0.102573</td>\n",
       "      <td>0.136264</td>\n",
       "      <td>0.128227</td>\n",
       "      <td>0.128548</td>\n",
       "      <td>0.105363</td>\n",
       "    </tr>\n",
       "    <tr>\n",
       "      <td>min</td>\n",
       "      <td>0.204545</td>\n",
       "      <td>0.463158</td>\n",
       "      <td>0.070796</td>\n",
       "      <td>0.181818</td>\n",
       "      <td>0.170455</td>\n",
       "      <td>0.394737</td>\n",
       "    </tr>\n",
       "    <tr>\n",
       "      <td>25%</td>\n",
       "      <td>0.622300</td>\n",
       "      <td>0.793218</td>\n",
       "      <td>0.537828</td>\n",
       "      <td>0.719405</td>\n",
       "      <td>0.618846</td>\n",
       "      <td>0.789268</td>\n",
       "    </tr>\n",
       "    <tr>\n",
       "      <td>50%</td>\n",
       "      <td>0.718310</td>\n",
       "      <td>0.866667</td>\n",
       "      <td>0.639810</td>\n",
       "      <td>0.811111</td>\n",
       "      <td>0.716814</td>\n",
       "      <td>0.864407</td>\n",
       "    </tr>\n",
       "    <tr>\n",
       "      <td>75%</td>\n",
       "      <td>0.801802</td>\n",
       "      <td>0.941224</td>\n",
       "      <td>0.731763</td>\n",
       "      <td>0.898900</td>\n",
       "      <td>0.800000</td>\n",
       "      <td>0.939707</td>\n",
       "    </tr>\n",
       "    <tr>\n",
       "      <td>max</td>\n",
       "      <td>0.975460</td>\n",
       "      <td>1.000000</td>\n",
       "      <td>0.936975</td>\n",
       "      <td>1.000000</td>\n",
       "      <td>0.975460</td>\n",
       "      <td>1.000000</td>\n",
       "    </tr>\n",
       "  </tbody>\n",
       "</table>\n",
       "</div>"
      ],
      "text/plain": [
       "         rouge_1_p    rouge_1_r    rouge_2_p    rouge_2_r    rouge_L_p  \\\n",
       "count  2223.000000  2223.000000  2223.000000  2223.000000  2223.000000   \n",
       "mean   0.704003     0.859584     0.628502     0.800870     0.701721      \n",
       "std    0.127298     0.102573     0.136264     0.128227     0.128548      \n",
       "min    0.204545     0.463158     0.070796     0.181818     0.170455      \n",
       "25%    0.622300     0.793218     0.537828     0.719405     0.618846      \n",
       "50%    0.718310     0.866667     0.639810     0.811111     0.716814      \n",
       "75%    0.801802     0.941224     0.731763     0.898900     0.800000      \n",
       "max    0.975460     1.000000     0.936975     1.000000     0.975460      \n",
       "\n",
       "         rouge_L_r  \n",
       "count  2223.000000  \n",
       "mean   0.856753     \n",
       "std    0.105363     \n",
       "min    0.394737     \n",
       "25%    0.789268     \n",
       "50%    0.864407     \n",
       "75%    0.939707     \n",
       "max    1.000000     "
      ]
     },
     "execution_count": 319,
     "metadata": {},
     "output_type": "execute_result"
    }
   ],
   "source": [
    "cols = ['rouge_1_p','rouge_1_r','rouge_2_p','rouge_2_r','rouge_L_p','rouge_L_r']\n",
    "cbowall_scores.describe()[cols]"
   ]
  },
  {
   "cell_type": "markdown",
   "metadata": {},
   "source": [
    "Based on the rouge scores obtained on the 2223 summaries, the generated summaries has a mean recall score of 85% for rouge-1, 80% for rouge-2 and 85% for rouge-L. This model is able to generate summaries similar to those in the BBC dataset."
   ]
  },
  {
   "cell_type": "markdown",
   "metadata": {},
   "source": [
    "## Model 3 Pre-Trained Bert Summarization Evaluation"
   ]
  },
  {
   "cell_type": "markdown",
   "metadata": {},
   "source": [
    "### One Sample"
   ]
  },
  {
   "cell_type": "code",
   "execution_count": 320,
   "metadata": {},
   "outputs": [],
   "source": [
    "file_summary = '../dataset/Summaries/tech/005.txt'\n",
    "bbc_summary = readFile(file_summary)\n",
    "bbc_summary = ''.join(bbc_summary).replace('.','. ')\n",
    "num_sentences_to_match = len(bbc_summary.split('.'))-1"
   ]
  },
  {
   "cell_type": "code",
   "execution_count": 321,
   "metadata": {},
   "outputs": [
    {
     "data": {
      "text/plain": [
       "'Technology gets the creative bug The hi-tech and the arts worlds have for some time danced around each other and offered creative and technical help when required. Often this help has come in the form of corporate art sponsorship or infrastructure provision. UK telco BT is serious about the idea and has launched its Connected World initiative. The river was integral to the city\\'s survival for hundreds of years and it was equally essential to the city that it disappeared,\" said the artists. \" In their previous works they used the Quake game graphics engine. The game engine is the core component of a video game because it handles graphics rendering, game AI, and how objects behave and relate to each other in a game. But collaboration between art and digital technology is by no means new, and many keen coders, designers, games makers and animators argue that what they create is art itself. The Orange Expressionist exhibition last year, for example, displayed thousands of picture messages from people all over the UK to create an interactive installation. Technology as a way of unleashing creativity has massive potential, not least because it gives people something to do with their technology. The art world is \"fantastically rich\", said Mr Stone, with creative people and ideas which means traditional companies like BT want to get in with them. It is about how can everyone have the best seat in house and asking if technology has a role in solving that problem.\" The creative drive is not purely altruistic obviously. It is about both industries borrowing strategies and creative ideas together which can result in better business practices for creative industries, or more patent ideas for tech companies. \" What we are trying to do is have outside-in thinking. \"'"
      ]
     },
     "execution_count": 321,
     "metadata": {},
     "output_type": "execute_result"
    }
   ],
   "source": [
    "file = '../dataset/NewsArticles/tech/005.txt'\n",
    "text = readFile(file)\n",
    "text_sent_count = get_sentencecount(text)\n",
    "bert_summary = generate_summary_bert(text,text_sent_count, num_sentences_to_match)\n",
    "bert_summary"
   ]
  },
  {
   "cell_type": "code",
   "execution_count": 322,
   "metadata": {
    "scrolled": true
   },
   "outputs": [
    {
     "data": {
      "text/plain": [
       "[{'rouge-1': {'f': 0.6102564052753452,\n",
       "   'p': 0.6502732240437158,\n",
       "   'r': 0.5748792270531401},\n",
       "  'rouge-2': {'f': 0.49430893810382714,\n",
       "   'p': 0.5223367697594502,\n",
       "   'r': 0.4691358024691358},\n",
       "  'rouge-l': {'f': 0.6005964703831381,\n",
       "   'p': 0.644808743169399,\n",
       "   'r': 0.5700483091787439}}]"
      ]
     },
     "execution_count": 322,
     "metadata": {},
     "output_type": "execute_result"
    }
   ],
   "source": [
    "score_summary(bert_summary, bbc_summary)"
   ]
  },
  {
   "cell_type": "markdown",
   "metadata": {},
   "source": [
    "### 50 Samples"
   ]
  },
  {
   "cell_type": "raw",
   "metadata": {},
   "source": [
    "# to get scores for all bbc summaries(5 categories)\n",
    "# one output file for each category, total: 5 files, folder: dataset/Model/\n",
    "# To run one category at a time\n",
    "# Only 50 samples are run as one sample takes 30s to generate!\n",
    "import os\n",
    "scorelist = []\n",
    "\n",
    "#category = ['business','entertainment','politics','sport','tech']\n",
    "category = ['tech']\n",
    "i=0\n",
    "for cat in category:\n",
    "    filedir = \"../dataset/NewsArticles/\" + cat + \"/\"\n",
    "    for file in os.listdir(filedir):\n",
    "        if file.endswith(\".txt\") and i<50:\n",
    "            file = os.path.join(filedir, file)\n",
    "            results = evaluate_bbc_summary(file, 'bert')\n",
    "            scoredict = {}\n",
    "            scoredict['cat'] = cat\n",
    "            scoredict['file'] = file\n",
    "            scoredict['text_sentence_count'] = results[0]\n",
    "            scoredict['text_word_count'] = results[1]\n",
    "            scoredict['summary_sentence_count'] = results[2]\n",
    "            scoredict['summary_word_count'] = results[3]\n",
    "            scoredict['model'] = results[4]\n",
    "            scoredict['rouge_1_p'] = results[5][0]['rouge-1']['p']\n",
    "            scoredict['rouge_1_r'] = results[5][0]['rouge-1']['r']\n",
    "            scoredict['rouge_2_p'] = results[5][0]['rouge-2']['p']\n",
    "            scoredict['rouge_2_r'] = results[5][0]['rouge-2']['r']\n",
    "            scoredict['rouge_L_p'] = results[5][0]['rouge-l']['p']\n",
    "            scoredict['rouge_L_r'] = results[5][0]['rouge-l']['r']\n",
    "            scorelist.append(scoredict)\n",
    "            i += 1\n",
    "    # save all scores to dataframes for analysis        \n",
    "    df = pd.DataFrame(scorelist, columns=['cat','file','text_sentence_count','text_word_count',\n",
    "                                          'summary_sentence_count','summary_word_count',\n",
    "                                          'model',\n",
    "                                          'rouge_1_p','rouge_1_r',\n",
    "                                          'rouge_2_p','rouge_2_r',\n",
    "                                          'rouge_L_p','rouge_L_r'])\n",
    "    filename = '../dataset/Model/bert_' + cat + 'score.csv'\n",
    "    df.to_csv(filename)"
   ]
  },
  {
   "cell_type": "markdown",
   "metadata": {},
   "source": [
    "Rouge Scores for generated summaries vs BBC summaries. The scores are found in files in dataset folder."
   ]
  },
  {
   "cell_type": "code",
   "execution_count": 323,
   "metadata": {},
   "outputs": [
    {
     "data": {
      "text/html": [
       "<div>\n",
       "<style scoped>\n",
       "    .dataframe tbody tr th:only-of-type {\n",
       "        vertical-align: middle;\n",
       "    }\n",
       "\n",
       "    .dataframe tbody tr th {\n",
       "        vertical-align: top;\n",
       "    }\n",
       "\n",
       "    .dataframe thead th {\n",
       "        text-align: right;\n",
       "    }\n",
       "</style>\n",
       "<table border=\"1\" class=\"dataframe\">\n",
       "  <thead>\n",
       "    <tr style=\"text-align: right;\">\n",
       "      <th></th>\n",
       "      <th>rouge_1_p</th>\n",
       "      <th>rouge_1_r</th>\n",
       "      <th>rouge_2_p</th>\n",
       "      <th>rouge_2_r</th>\n",
       "      <th>rouge_L_p</th>\n",
       "      <th>rouge_L_r</th>\n",
       "    </tr>\n",
       "  </thead>\n",
       "  <tbody>\n",
       "    <tr>\n",
       "      <td>count</td>\n",
       "      <td>50.000000</td>\n",
       "      <td>50.000000</td>\n",
       "      <td>50.000000</td>\n",
       "      <td>50.000000</td>\n",
       "      <td>50.000000</td>\n",
       "      <td>50.000000</td>\n",
       "    </tr>\n",
       "    <tr>\n",
       "      <td>mean</td>\n",
       "      <td>0.545953</td>\n",
       "      <td>0.604088</td>\n",
       "      <td>0.416369</td>\n",
       "      <td>0.449464</td>\n",
       "      <td>0.531754</td>\n",
       "      <td>0.588876</td>\n",
       "    </tr>\n",
       "    <tr>\n",
       "      <td>std</td>\n",
       "      <td>0.083112</td>\n",
       "      <td>0.131060</td>\n",
       "      <td>0.107175</td>\n",
       "      <td>0.162793</td>\n",
       "      <td>0.086798</td>\n",
       "      <td>0.135262</td>\n",
       "    </tr>\n",
       "    <tr>\n",
       "      <td>min</td>\n",
       "      <td>0.346154</td>\n",
       "      <td>0.360360</td>\n",
       "      <td>0.156716</td>\n",
       "      <td>0.168000</td>\n",
       "      <td>0.326923</td>\n",
       "      <td>0.333333</td>\n",
       "    </tr>\n",
       "    <tr>\n",
       "      <td>25%</td>\n",
       "      <td>0.484630</td>\n",
       "      <td>0.513648</td>\n",
       "      <td>0.352172</td>\n",
       "      <td>0.343065</td>\n",
       "      <td>0.470569</td>\n",
       "      <td>0.502419</td>\n",
       "    </tr>\n",
       "    <tr>\n",
       "      <td>50%</td>\n",
       "      <td>0.544885</td>\n",
       "      <td>0.573849</td>\n",
       "      <td>0.432403</td>\n",
       "      <td>0.419080</td>\n",
       "      <td>0.544167</td>\n",
       "      <td>0.550356</td>\n",
       "    </tr>\n",
       "    <tr>\n",
       "      <td>75%</td>\n",
       "      <td>0.598034</td>\n",
       "      <td>0.683388</td>\n",
       "      <td>0.492693</td>\n",
       "      <td>0.532398</td>\n",
       "      <td>0.589510</td>\n",
       "      <td>0.680518</td>\n",
       "    </tr>\n",
       "    <tr>\n",
       "      <td>max</td>\n",
       "      <td>0.757143</td>\n",
       "      <td>0.983051</td>\n",
       "      <td>0.685185</td>\n",
       "      <td>0.962963</td>\n",
       "      <td>0.750000</td>\n",
       "      <td>0.983051</td>\n",
       "    </tr>\n",
       "  </tbody>\n",
       "</table>\n",
       "</div>"
      ],
      "text/plain": [
       "       rouge_1_p  rouge_1_r  rouge_2_p  rouge_2_r  rouge_L_p  rouge_L_r\n",
       "count  50.000000  50.000000  50.000000  50.000000  50.000000  50.000000\n",
       "mean   0.545953   0.604088   0.416369   0.449464   0.531754   0.588876 \n",
       "std    0.083112   0.131060   0.107175   0.162793   0.086798   0.135262 \n",
       "min    0.346154   0.360360   0.156716   0.168000   0.326923   0.333333 \n",
       "25%    0.484630   0.513648   0.352172   0.343065   0.470569   0.502419 \n",
       "50%    0.544885   0.573849   0.432403   0.419080   0.544167   0.550356 \n",
       "75%    0.598034   0.683388   0.492693   0.532398   0.589510   0.680518 \n",
       "max    0.757143   0.983051   0.685185   0.962963   0.750000   0.983051 "
      ]
     },
     "execution_count": 323,
     "metadata": {},
     "output_type": "execute_result"
    }
   ],
   "source": [
    "berttechscore = pd.read_csv('../dataset/Model/bert_techscore50.csv')\n",
    "berttechscore.drop('Unnamed: 0',axis=1, inplace=True)\n",
    "cols = ['rouge_1_p','rouge_1_r','rouge_2_p','rouge_2_r','rouge_L_p','rouge_L_r']\n",
    "berttechscore.describe()[cols]"
   ]
  },
  {
   "cell_type": "markdown",
   "metadata": {},
   "source": [
    "Based on the rouge scores obtained on the 50 summaries (it takes 30s to generate one summary), the generated summaries has a mean recall score of 60% for rouge-1, 45% for rouge-2 and 59% for rouge-L. This is the lowest among the 3 models."
   ]
  },
  {
   "cell_type": "markdown",
   "metadata": {},
   "source": [
    "# Conclusions"
   ]
  },
  {
   "cell_type": "code",
   "execution_count": null,
   "metadata": {},
   "outputs": [],
   "source": []
  },
  {
   "cell_type": "markdown",
   "metadata": {},
   "source": [
    "# References"
   ]
  },
  {
   "cell_type": "raw",
   "metadata": {},
   "source": [
    "# References\n",
    "https://www.analyticsvidhya.com/blog/2018/11/introduction-text-summarization-textrank-python/\n",
    "https://www.analyticsvidhya.com/blog/2019/06/comprehensive-guide-text-summarization-using-deep-learning-python/\n",
    "https://towardsdatascience.com/data-scientists-guide-to-summarization-fc0db952e363\n",
    "https://www.aclweb.org/anthology/W17-1003/\n",
    "https://towardsdatascience.com/fse-2b1ffa791cf9\n",
    "https://deeplearninganalytics.org/text-summarization/\n",
    "https://pypi.org/project/bert-extractive-summarizer/\n",
    "https://www.groundai.com/project/fine-tune-bert-for-extractive-summarization/1\n",
    "https://semantive.com/text-summarization-in-python/\n",
    "https://medium.com/the-artificial-impostor/use-textrank-to-extract-most-important-sentences-in-article-b8efc7e70b4\n",
    "http://www.decodeschool.com/blog/Python/Centroid-based-Text-summarization-in-Python"
   ]
  }
 ],
 "metadata": {
  "kernelspec": {
   "display_name": "Python 3",
   "language": "python",
   "name": "python3"
  },
  "language_info": {
   "codemirror_mode": {
    "name": "ipython",
    "version": 3
   },
   "file_extension": ".py",
   "mimetype": "text/x-python",
   "name": "python",
   "nbconvert_exporter": "python",
   "pygments_lexer": "ipython3",
   "version": "3.7.3"
  },
  "toc": {
   "base_numbering": 1,
   "nav_menu": {},
   "number_sections": true,
   "sideBar": true,
   "skip_h1_title": false,
   "title_cell": "Table of Contents",
   "title_sidebar": "Contents",
   "toc_cell": false,
   "toc_position": {},
   "toc_section_display": true,
   "toc_window_display": true
  }
 },
 "nbformat": 4,
 "nbformat_minor": 2
}
